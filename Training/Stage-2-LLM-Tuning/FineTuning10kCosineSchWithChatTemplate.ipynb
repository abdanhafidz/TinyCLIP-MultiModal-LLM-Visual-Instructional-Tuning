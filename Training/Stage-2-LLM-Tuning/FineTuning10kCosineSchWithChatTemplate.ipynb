{
 "cells": [
  {
   "cell_type": "code",
   "execution_count": 1,
   "metadata": {
    "colab": {
     "base_uri": "https://localhost:8080/"
    },
    "executionInfo": {
     "elapsed": 6541,
     "status": "ok",
     "timestamp": 1750660257320,
     "user": {
      "displayName": "Abdan Hafidz",
      "userId": "09821924593193452293"
     },
     "user_tz": -420
    },
    "id": "dG55IMgsh7kV",
    "outputId": "0c3d5ed5-b598-4d13-e64b-6a397879e017"
   },
   "outputs": [
    {
     "name": "stdout",
     "output_type": "stream",
     "text": [
      "Requirement already satisfied: datasets in /usr/local/lib/python3.11/dist-packages (2.14.4)\n",
      "Requirement already satisfied: numpy>=1.17 in /usr/local/lib/python3.11/dist-packages (from datasets) (2.0.2)\n",
      "Requirement already satisfied: pyarrow>=8.0.0 in /usr/local/lib/python3.11/dist-packages (from datasets) (18.1.0)\n",
      "Requirement already satisfied: dill<0.3.8,>=0.3.0 in /usr/local/lib/python3.11/dist-packages (from datasets) (0.3.7)\n",
      "Requirement already satisfied: pandas in /usr/local/lib/python3.11/dist-packages (from datasets) (2.2.2)\n",
      "Requirement already satisfied: requests>=2.19.0 in /usr/local/lib/python3.11/dist-packages (from datasets) (2.32.3)\n",
      "Requirement already satisfied: tqdm>=4.62.1 in /usr/local/lib/python3.11/dist-packages (from datasets) (4.67.1)\n",
      "Requirement already satisfied: xxhash in /usr/local/lib/python3.11/dist-packages (from datasets) (3.5.0)\n",
      "Requirement already satisfied: multiprocess in /usr/local/lib/python3.11/dist-packages (from datasets) (0.70.15)\n",
      "Requirement already satisfied: fsspec>=2021.11.1 in /usr/local/lib/python3.11/dist-packages (from fsspec[http]>=2021.11.1->datasets) (2025.3.2)\n",
      "Requirement already satisfied: aiohttp in /usr/local/lib/python3.11/dist-packages (from datasets) (3.11.15)\n",
      "Requirement already satisfied: huggingface-hub<1.0.0,>=0.14.0 in /usr/local/lib/python3.11/dist-packages (from datasets) (0.33.0)\n",
      "Requirement already satisfied: packaging in /usr/local/lib/python3.11/dist-packages (from datasets) (24.2)\n",
      "Requirement already satisfied: pyyaml>=5.1 in /usr/local/lib/python3.11/dist-packages (from datasets) (6.0.2)\n",
      "Requirement already satisfied: aiohappyeyeballs>=2.3.0 in /usr/local/lib/python3.11/dist-packages (from aiohttp->datasets) (2.6.1)\n",
      "Requirement already satisfied: aiosignal>=1.1.2 in /usr/local/lib/python3.11/dist-packages (from aiohttp->datasets) (1.3.2)\n",
      "Requirement already satisfied: attrs>=17.3.0 in /usr/local/lib/python3.11/dist-packages (from aiohttp->datasets) (25.3.0)\n",
      "Requirement already satisfied: frozenlist>=1.1.1 in /usr/local/lib/python3.11/dist-packages (from aiohttp->datasets) (1.7.0)\n",
      "Requirement already satisfied: multidict<7.0,>=4.5 in /usr/local/lib/python3.11/dist-packages (from aiohttp->datasets) (6.4.4)\n",
      "Requirement already satisfied: propcache>=0.2.0 in /usr/local/lib/python3.11/dist-packages (from aiohttp->datasets) (0.3.2)\n",
      "Requirement already satisfied: yarl<2.0,>=1.17.0 in /usr/local/lib/python3.11/dist-packages (from aiohttp->datasets) (1.20.1)\n",
      "Requirement already satisfied: filelock in /usr/local/lib/python3.11/dist-packages (from huggingface-hub<1.0.0,>=0.14.0->datasets) (3.18.0)\n",
      "Requirement already satisfied: typing-extensions>=3.7.4.3 in /usr/local/lib/python3.11/dist-packages (from huggingface-hub<1.0.0,>=0.14.0->datasets) (4.14.0)\n",
      "Requirement already satisfied: hf-xet<2.0.0,>=1.1.2 in /usr/local/lib/python3.11/dist-packages (from huggingface-hub<1.0.0,>=0.14.0->datasets) (1.1.3)\n",
      "Requirement already satisfied: charset-normalizer<4,>=2 in /usr/local/lib/python3.11/dist-packages (from requests>=2.19.0->datasets) (3.4.2)\n",
      "Requirement already satisfied: idna<4,>=2.5 in /usr/local/lib/python3.11/dist-packages (from requests>=2.19.0->datasets) (3.10)\n",
      "Requirement already satisfied: urllib3<3,>=1.21.1 in /usr/local/lib/python3.11/dist-packages (from requests>=2.19.0->datasets) (2.4.0)\n",
      "Requirement already satisfied: certifi>=2017.4.17 in /usr/local/lib/python3.11/dist-packages (from requests>=2.19.0->datasets) (2025.6.15)\n",
      "Requirement already satisfied: python-dateutil>=2.8.2 in /usr/local/lib/python3.11/dist-packages (from pandas->datasets) (2.9.0.post0)\n",
      "Requirement already satisfied: pytz>=2020.1 in /usr/local/lib/python3.11/dist-packages (from pandas->datasets) (2025.2)\n",
      "Requirement already satisfied: tzdata>=2022.7 in /usr/local/lib/python3.11/dist-packages (from pandas->datasets) (2025.2)\n",
      "Requirement already satisfied: six>=1.5 in /usr/local/lib/python3.11/dist-packages (from python-dateutil>=2.8.2->pandas->datasets) (1.17.0)\n"
     ]
    }
   ],
   "source": [
    "%pip install datasets"
   ]
  },
  {
   "cell_type": "code",
   "execution_count": 2,
   "metadata": {
    "colab": {
     "base_uri": "https://localhost:8080/"
    },
    "executionInfo": {
     "elapsed": 9623,
     "status": "ok",
     "timestamp": 1750660266966,
     "user": {
      "displayName": "Abdan Hafidz",
      "userId": "09821924593193452293"
     },
     "user_tz": -420
    },
    "id": "p7lKBwVDiAtG",
    "outputId": "c50ad97e-6666-4795-fde8-71b2a55bb458"
   },
   "outputs": [
    {
     "name": "stdout",
     "output_type": "stream",
     "text": [
      "Reading package lists... Done\n",
      "Building dependency tree... Done\n",
      "Reading state information... Done\n",
      "The following additional packages will be installed:\n",
      "  libaria2-0 libc-ares2\n",
      "The following NEW packages will be installed:\n",
      "  aria2 libaria2-0 libc-ares2\n",
      "0 upgraded, 3 newly installed, 0 to remove and 35 not upgraded.\n",
      "Need to get 1,513 kB of archives.\n",
      "After this operation, 5,441 kB of additional disk space will be used.\n",
      "Get:1 http://archive.ubuntu.com/ubuntu jammy-updates/main amd64 libc-ares2 amd64 1.18.1-1ubuntu0.22.04.3 [45.1 kB]\n",
      "Get:2 http://archive.ubuntu.com/ubuntu jammy/universe amd64 libaria2-0 amd64 1.36.0-1 [1,086 kB]\n",
      "Get:3 http://archive.ubuntu.com/ubuntu jammy/universe amd64 aria2 amd64 1.36.0-1 [381 kB]\n",
      "Fetched 1,513 kB in 1s (1,319 kB/s)\n",
      "debconf: unable to initialize frontend: Dialog\n",
      "debconf: (No usable dialog-like program is installed, so the dialog based frontend cannot be used. at /usr/share/perl5/Debconf/FrontEnd/Dialog.pm line 78, <> line 3.)\n",
      "debconf: falling back to frontend: Readline\n",
      "debconf: unable to initialize frontend: Readline\n",
      "debconf: (This frontend requires a controlling tty.)\n",
      "debconf: falling back to frontend: Teletype\n",
      "dpkg-preconfigure: unable to re-open stdin: \n",
      "Selecting previously unselected package libc-ares2:amd64.\n",
      "(Reading database ... 126319 files and directories currently installed.)\n",
      "Preparing to unpack .../libc-ares2_1.18.1-1ubuntu0.22.04.3_amd64.deb ...\n",
      "Unpacking libc-ares2:amd64 (1.18.1-1ubuntu0.22.04.3) ...\n",
      "Selecting previously unselected package libaria2-0:amd64.\n",
      "Preparing to unpack .../libaria2-0_1.36.0-1_amd64.deb ...\n",
      "Unpacking libaria2-0:amd64 (1.36.0-1) ...\n",
      "Selecting previously unselected package aria2.\n",
      "Preparing to unpack .../aria2_1.36.0-1_amd64.deb ...\n",
      "Unpacking aria2 (1.36.0-1) ...\n",
      "Setting up libc-ares2:amd64 (1.18.1-1ubuntu0.22.04.3) ...\n",
      "Setting up libaria2-0:amd64 (1.36.0-1) ...\n",
      "Setting up aria2 (1.36.0-1) ...\n",
      "Processing triggers for man-db (2.10.2-1) ...\n",
      "Processing triggers for libc-bin (2.35-0ubuntu3.8) ...\n",
      "/sbin/ldconfig.real: /usr/local/lib/libur_loader.so.0 is not a symbolic link\n",
      "\n",
      "/sbin/ldconfig.real: /usr/local/lib/libumf.so.0 is not a symbolic link\n",
      "\n",
      "/sbin/ldconfig.real: /usr/local/lib/libtbbbind_2_0.so.3 is not a symbolic link\n",
      "\n",
      "/sbin/ldconfig.real: /usr/local/lib/libtbbbind.so.3 is not a symbolic link\n",
      "\n",
      "/sbin/ldconfig.real: /usr/local/lib/libtcm.so.1 is not a symbolic link\n",
      "\n",
      "/sbin/ldconfig.real: /usr/local/lib/libtbbmalloc_proxy.so.2 is not a symbolic link\n",
      "\n",
      "/sbin/ldconfig.real: /usr/local/lib/libtcm_debug.so.1 is not a symbolic link\n",
      "\n",
      "/sbin/ldconfig.real: /usr/local/lib/libhwloc.so.15 is not a symbolic link\n",
      "\n",
      "/sbin/ldconfig.real: /usr/local/lib/libtbbbind_2_5.so.3 is not a symbolic link\n",
      "\n",
      "/sbin/ldconfig.real: /usr/local/lib/libtbb.so.12 is not a symbolic link\n",
      "\n",
      "/sbin/ldconfig.real: /usr/local/lib/libur_adapter_level_zero.so.0 is not a symbolic link\n",
      "\n",
      "/sbin/ldconfig.real: /usr/local/lib/libur_adapter_opencl.so.0 is not a symbolic link\n",
      "\n",
      "/sbin/ldconfig.real: /usr/local/lib/libtbbmalloc.so.2 is not a symbolic link\n",
      "\n"
     ]
    }
   ],
   "source": [
    "!sudo apt install aria2"
   ]
  },
  {
   "cell_type": "code",
   "execution_count": null,
   "metadata": {
    "id": "XDO53Gz0iIfl"
   },
   "outputs": [],
   "source": [
    "# !curl -L -o dataset.parquet \"https://files.fileditch.st/b54/OgzSoFUTPJqwzYdyRqO.parquet?md5=j2vxeelF0XLfw4W-A1H0Gg&expires=1748462614\""
   ]
  },
  {
   "cell_type": "code",
   "execution_count": 3,
   "metadata": {
    "colab": {
     "base_uri": "https://localhost:8080/"
    },
    "executionInfo": {
     "elapsed": 48288,
     "status": "ok",
     "timestamp": 1750660352312,
     "user": {
      "displayName": "Abdan Hafidz",
      "userId": "09821924593193452293"
     },
     "user_tz": -420
    },
    "id": "SRa7CBxw4UF9",
    "outputId": "33651214-8354-4eab-a347-4c94fb779bc7"
   },
   "outputs": [
    {
     "name": "stdout",
     "output_type": "stream",
     "text": [
      "Mounted at /content/drive\n",
      "Embedding Files Name =   9900+Random.parquet\n",
      "File berhasil disalin ke /content/dataset.parquet\n"
     ]
    }
   ],
   "source": [
    "# Mount Google Drive\n",
    "from google.colab import drive\n",
    "drive.mount('/content/drive')\n",
    "\n",
    "# Salin file dari Google Drive ke direktori kerja Colab\n",
    "import shutil\n",
    "embedding_file_name = input(\"Embedding Files Name =   \")\n",
    "# Path ke file sumber di Google Drive\n",
    "source_path = f'/content/drive/My Drive/FP_NLP_EXPERIMENTS/2_EMBEDDING/{embedding_file_name}'\n",
    "\n",
    "# Path tujuan di direktori kerja Colab\n",
    "destination_path = '/content/dataset.parquet'\n",
    "\n",
    "# Menyalin file\n",
    "shutil.copy(source_path, destination_path)\n",
    "\n",
    "print(f'File berhasil disalin ke {destination_path}')"
   ]
  },
  {
   "cell_type": "code",
   "execution_count": 4,
   "metadata": {
    "colab": {
     "base_uri": "https://localhost:8080/"
    },
    "executionInfo": {
     "elapsed": 5488,
     "status": "ok",
     "timestamp": 1750660357811,
     "user": {
      "displayName": "Abdan Hafidz",
      "userId": "09821924593193452293"
     },
     "user_tz": -420
    },
    "id": "j1_TzoaNvamZ",
    "outputId": "a76fc918-0c5c-4028-964a-bae5c068a019"
   },
   "outputs": [
    {
     "name": "stdout",
     "output_type": "stream",
     "text": [
      "Requirement already satisfied: datasets in /usr/local/lib/python3.11/dist-packages (2.14.4)\n",
      "Collecting datasets\n",
      "  Downloading datasets-3.6.0-py3-none-any.whl.metadata (19 kB)\n",
      "Requirement already satisfied: filelock in /usr/local/lib/python3.11/dist-packages (from datasets) (3.18.0)\n",
      "Requirement already satisfied: numpy>=1.17 in /usr/local/lib/python3.11/dist-packages (from datasets) (2.0.2)\n",
      "Requirement already satisfied: pyarrow>=15.0.0 in /usr/local/lib/python3.11/dist-packages (from datasets) (18.1.0)\n",
      "Requirement already satisfied: dill<0.3.9,>=0.3.0 in /usr/local/lib/python3.11/dist-packages (from datasets) (0.3.7)\n",
      "Requirement already satisfied: pandas in /usr/local/lib/python3.11/dist-packages (from datasets) (2.2.2)\n",
      "Requirement already satisfied: requests>=2.32.2 in /usr/local/lib/python3.11/dist-packages (from datasets) (2.32.3)\n",
      "Requirement already satisfied: tqdm>=4.66.3 in /usr/local/lib/python3.11/dist-packages (from datasets) (4.67.1)\n",
      "Requirement already satisfied: xxhash in /usr/local/lib/python3.11/dist-packages (from datasets) (3.5.0)\n",
      "Requirement already satisfied: multiprocess<0.70.17 in /usr/local/lib/python3.11/dist-packages (from datasets) (0.70.15)\n",
      "Collecting fsspec<=2025.3.0,>=2023.1.0 (from fsspec[http]<=2025.3.0,>=2023.1.0->datasets)\n",
      "  Downloading fsspec-2025.3.0-py3-none-any.whl.metadata (11 kB)\n",
      "Requirement already satisfied: huggingface-hub>=0.24.0 in /usr/local/lib/python3.11/dist-packages (from datasets) (0.33.0)\n",
      "Requirement already satisfied: packaging in /usr/local/lib/python3.11/dist-packages (from datasets) (24.2)\n",
      "Requirement already satisfied: pyyaml>=5.1 in /usr/local/lib/python3.11/dist-packages (from datasets) (6.0.2)\n",
      "Requirement already satisfied: aiohttp!=4.0.0a0,!=4.0.0a1 in /usr/local/lib/python3.11/dist-packages (from fsspec[http]<=2025.3.0,>=2023.1.0->datasets) (3.11.15)\n",
      "Requirement already satisfied: typing-extensions>=3.7.4.3 in /usr/local/lib/python3.11/dist-packages (from huggingface-hub>=0.24.0->datasets) (4.14.0)\n",
      "Requirement already satisfied: hf-xet<2.0.0,>=1.1.2 in /usr/local/lib/python3.11/dist-packages (from huggingface-hub>=0.24.0->datasets) (1.1.3)\n",
      "Requirement already satisfied: charset-normalizer<4,>=2 in /usr/local/lib/python3.11/dist-packages (from requests>=2.32.2->datasets) (3.4.2)\n",
      "Requirement already satisfied: idna<4,>=2.5 in /usr/local/lib/python3.11/dist-packages (from requests>=2.32.2->datasets) (3.10)\n",
      "Requirement already satisfied: urllib3<3,>=1.21.1 in /usr/local/lib/python3.11/dist-packages (from requests>=2.32.2->datasets) (2.4.0)\n",
      "Requirement already satisfied: certifi>=2017.4.17 in /usr/local/lib/python3.11/dist-packages (from requests>=2.32.2->datasets) (2025.6.15)\n",
      "Requirement already satisfied: python-dateutil>=2.8.2 in /usr/local/lib/python3.11/dist-packages (from pandas->datasets) (2.9.0.post0)\n",
      "Requirement already satisfied: pytz>=2020.1 in /usr/local/lib/python3.11/dist-packages (from pandas->datasets) (2025.2)\n",
      "Requirement already satisfied: tzdata>=2022.7 in /usr/local/lib/python3.11/dist-packages (from pandas->datasets) (2025.2)\n",
      "Requirement already satisfied: aiohappyeyeballs>=2.3.0 in /usr/local/lib/python3.11/dist-packages (from aiohttp!=4.0.0a0,!=4.0.0a1->fsspec[http]<=2025.3.0,>=2023.1.0->datasets) (2.6.1)\n",
      "Requirement already satisfied: aiosignal>=1.1.2 in /usr/local/lib/python3.11/dist-packages (from aiohttp!=4.0.0a0,!=4.0.0a1->fsspec[http]<=2025.3.0,>=2023.1.0->datasets) (1.3.2)\n",
      "Requirement already satisfied: attrs>=17.3.0 in /usr/local/lib/python3.11/dist-packages (from aiohttp!=4.0.0a0,!=4.0.0a1->fsspec[http]<=2025.3.0,>=2023.1.0->datasets) (25.3.0)\n",
      "Requirement already satisfied: frozenlist>=1.1.1 in /usr/local/lib/python3.11/dist-packages (from aiohttp!=4.0.0a0,!=4.0.0a1->fsspec[http]<=2025.3.0,>=2023.1.0->datasets) (1.7.0)\n",
      "Requirement already satisfied: multidict<7.0,>=4.5 in /usr/local/lib/python3.11/dist-packages (from aiohttp!=4.0.0a0,!=4.0.0a1->fsspec[http]<=2025.3.0,>=2023.1.0->datasets) (6.4.4)\n",
      "Requirement already satisfied: propcache>=0.2.0 in /usr/local/lib/python3.11/dist-packages (from aiohttp!=4.0.0a0,!=4.0.0a1->fsspec[http]<=2025.3.0,>=2023.1.0->datasets) (0.3.2)\n",
      "Requirement already satisfied: yarl<2.0,>=1.17.0 in /usr/local/lib/python3.11/dist-packages (from aiohttp!=4.0.0a0,!=4.0.0a1->fsspec[http]<=2025.3.0,>=2023.1.0->datasets) (1.20.1)\n",
      "Requirement already satisfied: six>=1.5 in /usr/local/lib/python3.11/dist-packages (from python-dateutil>=2.8.2->pandas->datasets) (1.17.0)\n",
      "Downloading datasets-3.6.0-py3-none-any.whl (491 kB)\n",
      "\u001b[2K   \u001b[90m━━━━━━━━━━━━━━━━━━━━━━━━━━━━━━━━━━━━━━━━\u001b[0m \u001b[32m491.5/491.5 kB\u001b[0m \u001b[31m10.3 MB/s\u001b[0m eta \u001b[36m0:00:00\u001b[0m\n",
      "\u001b[?25hDownloading fsspec-2025.3.0-py3-none-any.whl (193 kB)\n",
      "\u001b[2K   \u001b[90m━━━━━━━━━━━━━━━━━━━━━━━━━━━━━━━━━━━━━━━━\u001b[0m \u001b[32m193.6/193.6 kB\u001b[0m \u001b[31m16.5 MB/s\u001b[0m eta \u001b[36m0:00:00\u001b[0m\n",
      "\u001b[?25hInstalling collected packages: fsspec, datasets\n",
      "  Attempting uninstall: fsspec\n",
      "    Found existing installation: fsspec 2025.3.2\n",
      "    Uninstalling fsspec-2025.3.2:\n",
      "      Successfully uninstalled fsspec-2025.3.2\n",
      "  Attempting uninstall: datasets\n",
      "    Found existing installation: datasets 2.14.4\n",
      "    Uninstalling datasets-2.14.4:\n",
      "      Successfully uninstalled datasets-2.14.4\n",
      "\u001b[31mERROR: pip's dependency resolver does not currently take into account all the packages that are installed. This behaviour is the source of the following dependency conflicts.\n",
      "gcsfs 2025.3.2 requires fsspec==2025.3.2, but you have fsspec 2025.3.0 which is incompatible.\n",
      "torch 2.6.0+cu124 requires nvidia-cublas-cu12==12.4.5.8; platform_system == \"Linux\" and platform_machine == \"x86_64\", but you have nvidia-cublas-cu12 12.5.3.2 which is incompatible.\n",
      "torch 2.6.0+cu124 requires nvidia-cuda-cupti-cu12==12.4.127; platform_system == \"Linux\" and platform_machine == \"x86_64\", but you have nvidia-cuda-cupti-cu12 12.5.82 which is incompatible.\n",
      "torch 2.6.0+cu124 requires nvidia-cuda-nvrtc-cu12==12.4.127; platform_system == \"Linux\" and platform_machine == \"x86_64\", but you have nvidia-cuda-nvrtc-cu12 12.5.82 which is incompatible.\n",
      "torch 2.6.0+cu124 requires nvidia-cuda-runtime-cu12==12.4.127; platform_system == \"Linux\" and platform_machine == \"x86_64\", but you have nvidia-cuda-runtime-cu12 12.5.82 which is incompatible.\n",
      "torch 2.6.0+cu124 requires nvidia-cudnn-cu12==9.1.0.70; platform_system == \"Linux\" and platform_machine == \"x86_64\", but you have nvidia-cudnn-cu12 9.3.0.75 which is incompatible.\n",
      "torch 2.6.0+cu124 requires nvidia-cufft-cu12==11.2.1.3; platform_system == \"Linux\" and platform_machine == \"x86_64\", but you have nvidia-cufft-cu12 11.2.3.61 which is incompatible.\n",
      "torch 2.6.0+cu124 requires nvidia-curand-cu12==10.3.5.147; platform_system == \"Linux\" and platform_machine == \"x86_64\", but you have nvidia-curand-cu12 10.3.6.82 which is incompatible.\n",
      "torch 2.6.0+cu124 requires nvidia-cusolver-cu12==11.6.1.9; platform_system == \"Linux\" and platform_machine == \"x86_64\", but you have nvidia-cusolver-cu12 11.6.3.83 which is incompatible.\n",
      "torch 2.6.0+cu124 requires nvidia-cusparse-cu12==12.3.1.170; platform_system == \"Linux\" and platform_machine == \"x86_64\", but you have nvidia-cusparse-cu12 12.5.1.3 which is incompatible.\n",
      "torch 2.6.0+cu124 requires nvidia-nvjitlink-cu12==12.4.127; platform_system == \"Linux\" and platform_machine == \"x86_64\", but you have nvidia-nvjitlink-cu12 12.5.82 which is incompatible.\u001b[0m\u001b[31m\n",
      "\u001b[0mSuccessfully installed datasets-3.6.0 fsspec-2025.3.0\n"
     ]
    }
   ],
   "source": [
    "!pip install datasets --upgrade"
   ]
  },
  {
   "cell_type": "code",
   "execution_count": 5,
   "metadata": {
    "executionInfo": {
     "elapsed": 1373,
     "status": "ok",
     "timestamp": 1750660359216,
     "user": {
      "displayName": "Abdan Hafidz",
      "userId": "09821924593193452293"
     },
     "user_tz": -420
    },
    "id": "AgAYt9EHiKki"
   },
   "outputs": [],
   "source": [
    "import datasets"
   ]
  },
  {
   "cell_type": "code",
   "execution_count": null,
   "metadata": {
    "colab": {
     "base_uri": "https://localhost:8080/",
     "height": 49,
     "referenced_widgets": [
      "e2356f9331274203a4d4663f6220631e",
      "c18ade7377ac496bb439e02d931c7616",
      "0d757fb315dd480aaac4addcc9b51a2c",
      "3118154f5de64e94b988e7aac6d61c90",
      "da1573ffc82a4bd2aae76545da040f1c",
      "d63c97bad9ca4967a5738398838dad2e",
      "bc39d8b3c18d4335a2b9609a753d0e4e",
      "e785fadf604e494bb63048ec70d90336",
      "271cf6d15a41405eb37b1964039b96e9",
      "ee61763173a5405ba655b0a05f2fc9f4",
      "6ca27bda5b244f81b497c3f8ea6634aa"
     ]
    },
    "executionInfo": {
     "elapsed": 6982,
     "status": "ok",
     "timestamp": 1750660366213,
     "user": {
      "displayName": "Abdan Hafidz",
      "userId": "09821924593193452293"
     },
     "user_tz": -420
    },
    "id": "uYf3463miQYI",
    "outputId": "4a231dd1-f04e-4edf-9b91-2180a85f1fcd"
   },
   "outputs": [],
   "source": [
    "ds = datasets.load_dataset(\"parquet\", data_files=\"dataset.parquet\")"
   ]
  },
  {
   "cell_type": "code",
   "execution_count": 7,
   "metadata": {
    "colab": {
     "base_uri": "https://localhost:8080/",
     "height": 36
    },
    "executionInfo": {
     "elapsed": 16,
     "status": "ok",
     "timestamp": 1750660366247,
     "user": {
      "displayName": "Abdan Hafidz",
      "userId": "09821924593193452293"
     },
     "user_tz": -420
    },
    "id": "50dPJSr2yewa",
    "outputId": "14dfc3f6-acb1-48dc-d072-aef59423e9ef"
   },
   "outputs": [
    {
     "data": {
      "application/vnd.google.colaboratory.intrinsic+json": {
       "type": "string"
      },
      "text/plain": [
       "'coco/train2017/000000166124.jpg'"
      ]
     },
     "execution_count": 7,
     "metadata": {},
     "output_type": "execute_result"
    }
   ],
   "source": [
    "ds[\"train\"][\"image\"][0]"
   ]
  },
  {
   "cell_type": "code",
   "execution_count": 8,
   "metadata": {
    "colab": {
     "base_uri": "https://localhost:8080/"
    },
    "executionInfo": {
     "elapsed": 241,
     "status": "ok",
     "timestamp": 1750660366510,
     "user": {
      "displayName": "Abdan Hafidz",
      "userId": "09821924593193452293"
     },
     "user_tz": -420
    },
    "id": "jnxZJM06yFXX",
    "outputId": "edd4e772-2ebe-4f29-c2a4-418d28556f11"
   },
   "outputs": [
    {
     "data": {
      "text/plain": [
       "[{'from': 'human',\n",
       "  'value': 'Analisis gambar tersebut secara komprehensif dan terperinci. \\n<image>'},\n",
       " {'from': 'gpt',\n",
       "  'value': 'Gambar tersebut menangkap sebuah adegan yang menyenangkan dari seni kuliner - enam bagel yang baru dipanggang, kerak keemasan mereka mengkilap di bawah cahaya. Setiap bagel diberi taburan biji wijen secara murah hati, menambahkan sentuhan tekstur dan rasa pada penampilan mereka yang sudah menggugah selera. Mereka disusun dengan rapi di atas rak pendingin kawat, dalam dua baris tiga. Baris atas sedikit tumpang tindih dengan baris bawah, menciptakan dinamika visual yang menarik. Rak pendingin berada di atas meja kayu, dengan serat alaminya menambahkan pesona pedesaan pada adegan. Latar belakang kabur dan tidak jelas, memungkinkan perhatian penonton tetap pada kreasi lezat ini. Ini adalah gambar sederhana namun menawan yang berbicara banyak tentang seni memanggang. <image>'}]"
      ]
     },
     "execution_count": 8,
     "metadata": {},
     "output_type": "execute_result"
    }
   ],
   "source": [
    "ds[\"train\"][\"conversations\"][0]"
   ]
  },
  {
   "cell_type": "code",
   "execution_count": 9,
   "metadata": {
    "executionInfo": {
     "elapsed": 10,
     "status": "ok",
     "timestamp": 1750660366535,
     "user": {
      "displayName": "Abdan Hafidz",
      "userId": "09821924593193452293"
     },
     "user_tz": -420
    },
    "id": "FgcmFPSxijME"
   },
   "outputs": [],
   "source": [
    "import pandas as pd"
   ]
  },
  {
   "cell_type": "code",
   "execution_count": 10,
   "metadata": {
    "colab": {
     "base_uri": "https://localhost:8080/"
    },
    "executionInfo": {
     "elapsed": 4317,
     "status": "ok",
     "timestamp": 1750660370856,
     "user": {
      "displayName": "Abdan Hafidz",
      "userId": "09821924593193452293"
     },
     "user_tz": -420
    },
    "id": "V3pgwYorywc3",
    "outputId": "9e1af73b-bdc4-4bd4-cb7d-23663364d165"
   },
   "outputs": [
    {
     "name": "stdout",
     "output_type": "stream",
     "text": [
      "Requirement already satisfied: einops in /usr/local/lib/python3.11/dist-packages (0.8.1)\n"
     ]
    }
   ],
   "source": [
    "!pip install einops"
   ]
  },
  {
   "cell_type": "code",
   "execution_count": 11,
   "metadata": {
    "executionInfo": {
     "elapsed": 8853,
     "status": "ok",
     "timestamp": 1750660379707,
     "user": {
      "displayName": "Abdan Hafidz",
      "userId": "09821924593193452293"
     },
     "user_tz": -420
    },
    "id": "V3hgbc8vRXeD"
   },
   "outputs": [],
   "source": [
    "import torch\n",
    "from torch.utils.data import Dataset, DataLoader\n",
    "from transformers import get_linear_schedule_with_warmup\n",
    "from transformers import AutoTokenizer\n",
    "import wandb\n",
    "from tqdm import tqdm\n",
    "from torch import nn\n",
    "from einops import rearrange\n",
    "from transformers import AutoModelForCausalLM, AutoTokenizer"
   ]
  },
  {
   "cell_type": "code",
   "execution_count": 12,
   "metadata": {
    "executionInfo": {
     "elapsed": 31,
     "status": "ok",
     "timestamp": 1750660379742,
     "user": {
      "displayName": "Abdan Hafidz",
      "userId": "09821924593193452293"
     },
     "user_tz": -420
    },
    "id": "gmx1YS6QixIS"
   },
   "outputs": [],
   "source": [
    "import torch\n",
    "from torch import nn\n",
    "from einops import rearrange\n",
    "from transformers import AutoModelForCausalLM, AutoTokenizer\n",
    "\n",
    "class VisionProjection(nn.Module):\n",
    "    def __init__(self, vision_dim, llama_dim):\n",
    "        super().__init__()\n",
    "        hidden_dim = llama_dim * 4\n",
    "\n",
    "        self.mlp = MLP(vision_dim, hidden_dim, llama_dim)\n",
    "\n",
    "        torch.nn.init.kaiming_normal_(self.mlp.fc1.weight, mode=\"fan_in\", nonlinearity=\"relu\")\n",
    "        torch.nn.init.kaiming_normal_(self.mlp.fc2.weight, mode=\"fan_in\", nonlinearity=\"relu\")\n",
    "\n",
    "    def forward(self, x):\n",
    "        # Squeeze out the unnecessary second dimension if it exists and is of size 1\n",
    "        if x.dim() == 5 and x.shape[1] == 1:\n",
    "            x = x.squeeze(1) # This removes the dimension at index 1\n",
    "\n",
    "        # Now x should have the shape (b, c, h, w)\n",
    "        x = rearrange(x, 'b c h w -> b (h w) c')\n",
    "        return self.mlp(x)\n",
    "\n",
    "class MLP(nn.Module):\n",
    "    def __init__(self, in_features, hidden_features, out_features):\n",
    "        super().__init__()\n",
    "        self.fc1 = nn.Linear(in_features, hidden_features)\n",
    "        self.act = nn.GELU()\n",
    "        self.fc2 = nn.Linear(hidden_features, out_features)\n",
    "\n",
    "    def forward(self, x):\n",
    "        x = self.fc1(x)\n",
    "        x = self.act(x)\n",
    "        x = self.fc2(x)\n",
    "        return x\n",
    "\n",
    "class MultimodalLlama(nn.Module):\n",
    "    def __init__(self, vision_dim=512, llama_dim=2048):\n",
    "        super().__init__()\n",
    "\n",
    "        # Vision components\n",
    "        self.vision_projection = VisionProjection(vision_dim, llama_dim)\n",
    "\n",
    "        # Load Llama model\n",
    "        self.llama = AutoModelForCausalLM.from_pretrained(\"alpindale/Llama-3.2-1B-Instruct\")\n",
    "        self.tokenizer = AutoTokenizer.from_pretrained(\"alpindale/Llama-3.2-1B-Instruct\")\n",
    "\n",
    "        # Add special tokens\n",
    "        special_tokens = {'additional_special_tokens': ['<image>', '</image>']}\n",
    "        self.tokenizer.add_special_tokens(special_tokens)\n",
    "\n",
    "        # Store image token ID\n",
    "        self.image_token_id = self.tokenizer.convert_tokens_to_ids(\"<image>\")\n",
    "\n",
    "    def encode_image(self, image_features):\n",
    "        # Project ResNet features to Llama dimension\n",
    "        return self.vision_projection(image_features)\n",
    "\n",
    "    def forward(self, input_ids, image_features=None, attention_mask=None, labels=None):\n",
    "        if image_features is not None:\n",
    "            with torch.no_grad():\n",
    "                inputs_embeds = self.llama.get_input_embeddings()(input_ids).detach()\n",
    "\n",
    "            inputs_embeds = inputs_embeds.clone().detach().requires_grad_(True)\n",
    "            image_embeds = self.encode_image(image_features)\n",
    "\n",
    "            # print(\"inputs_embeds shape:\", inputs_embeds.shape)\n",
    "            # print(\"image_embeds shape:\", image_embeds.shape)\n",
    "\n",
    "            image_token_pos = torch.where(input_ids == self.image_token_id)\n",
    "\n",
    "            if len(image_token_pos[0]) > 0:\n",
    "                pos = image_token_pos[1][0]\n",
    "\n",
    "                # Concatenate embeddings\n",
    "                inputs_embeds = torch.cat([\n",
    "                    inputs_embeds[:,:pos],\n",
    "                    image_embeds,\n",
    "                    inputs_embeds[:,pos+1:]\n",
    "                ], dim=1)\n",
    "\n",
    "                # Update attention mask\n",
    "                if attention_mask is not None:\n",
    "                    attention_mask = torch.cat([\n",
    "                        attention_mask[:,:pos],\n",
    "                        torch.ones((attention_mask.shape[0], image_embeds.shape[1]), device=attention_mask.device),\n",
    "                        attention_mask[:,pos+1:]\n",
    "                    ], dim=1)\n",
    "\n",
    "                # Update labels to match new sequence length\n",
    "                if labels is not None:\n",
    "                    labels = torch.cat([\n",
    "                        labels[:,:pos],\n",
    "                        torch.full((labels.shape[0], image_embeds.shape[1]), -100, device=labels.device),  # Fill with ignore_index\n",
    "                        labels[:,pos+1:]\n",
    "                    ], dim=1)\n",
    "\n",
    "            return self.llama(\n",
    "                inputs_embeds=inputs_embeds,\n",
    "                attention_mask=attention_mask,\n",
    "                labels=labels\n",
    "            )\n",
    "        else:\n",
    "            return self.llama(\n",
    "                input_ids=input_ids,\n",
    "                attention_mask=attention_mask,\n",
    "                labels=labels\n",
    "            )\n",
    "\n",
    "\n",
    "    def generate(self, input_ids, image_features=None, **kwargs):\n",
    "        if image_features is not None:\n",
    "            inputs_embeds = self.llama.get_input_embeddings()(input_ids)\n",
    "            image_embeds = self.encode_image(image_features)\n",
    "\n",
    "            # Insert image embeddings\n",
    "            image_token_pos = (input_ids == self.tokenizer.convert_tokens_to_ids(\"<image>\")).nonzero()\n",
    "            if len(image_token_pos) > 0:\n",
    "                pos = image_token_pos[0,1]\n",
    "                inputs_embeds = torch.cat([\n",
    "                    inputs_embeds[:,:pos],\n",
    "                    image_embeds.unsqueeze(1),\n",
    "                    inputs_embeds[:,pos+1:]\n",
    "                ], dim=1)\n",
    "\n",
    "            return self.llama.generate(inputs_embeds=inputs_embeds, **kwargs)\n",
    "        else:\n",
    "            return self.llama.generate(input_ids=input_ids, **kwargs)"
   ]
  },
  {
   "cell_type": "markdown",
   "metadata": {
    "id": "PKvL8xFsTNWA"
   },
   "source": [
    "![image.png](data:image/png;base64,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)"
   ]
  },
  {
   "cell_type": "code",
   "execution_count": 13,
   "metadata": {
    "executionInfo": {
     "elapsed": 4,
     "status": "ok",
     "timestamp": 1750660379751,
     "user": {
      "displayName": "Abdan Hafidz",
      "userId": "09821924593193452293"
     },
     "user_tz": -420
    },
    "id": "zMXc_1JATM2I"
   },
   "outputs": [],
   "source": [
    "import datetime\n",
    "dt = datetime.datetime.now()"
   ]
  },
  {
   "cell_type": "code",
   "execution_count": 14,
   "metadata": {
    "colab": {
     "base_uri": "https://localhost:8080/"
    },
    "collapsed": true,
    "executionInfo": {
     "elapsed": 4847,
     "status": "ok",
     "timestamp": 1750660384601,
     "user": {
      "displayName": "Abdan Hafidz",
      "userId": "09821924593193452293"
     },
     "user_tz": -420
    },
    "id": "VI8ZCOjljAso",
    "outputId": "5d7949fb-f2c7-4a3a-9fab-55cc75b15684"
   },
   "outputs": [
    {
     "name": "stderr",
     "output_type": "stream",
     "text": [
      "\u001b[34m\u001b[1mwandb\u001b[0m: \u001b[33mWARNING\u001b[0m If you're specifying your api key in code, ensure this code is not shared publicly.\n",
      "\u001b[34m\u001b[1mwandb\u001b[0m: \u001b[33mWARNING\u001b[0m Consider setting the WANDB_API_KEY environment variable, or running `wandb login` from the command line.\n",
      "\u001b[34m\u001b[1mwandb\u001b[0m: No netrc file found, creating one.\n",
      "\u001b[34m\u001b[1mwandb\u001b[0m: Appending key for api.wandb.ai to your netrc file: /root/.netrc\n",
      "\u001b[34m\u001b[1mwandb\u001b[0m: Currently logged in as: \u001b[33mabdan-hafidz\u001b[0m (\u001b[33mabdan-hafidz-institut-teknologi-sepuluh-nopember\u001b[0m) to \u001b[32mhttps://api.wandb.ai\u001b[0m. Use \u001b[1m`wandb login --relogin`\u001b[0m to force relogin\n"
     ]
    }
   ],
   "source": [
    "import torch\n",
    "from torch.utils.data import Dataset, DataLoader\n",
    "from transformers import get_cosine_schedule_with_warmup\n",
    "from transformers import AutoTokenizer\n",
    "from google.colab import userdata\n",
    "import wandb\n",
    "from tqdm import tqdm\n",
    "import datetime\n",
    "import os\n",
    "import shutil\n",
    "import random\n",
    "import numpy as np\n",
    "\n",
    "wandb.login(key=userdata.get('WANDB_KEY'))\n",
    "\n",
    "# Set seeds for reproducibility\n",
    "def set_seed(seed=42):\n",
    "    random.seed(seed)\n",
    "    np.random.seed(seed)\n",
    "    torch.manual_seed(seed)\n",
    "    torch.cuda.manual_seed_all(seed)\n",
    "    torch.backends.cudnn.deterministic = True\n",
    "    torch.backends.cudnn.benchmark = False\n",
    "\n",
    "# Custom dataset class\n",
    "class MultimodalDataset(Dataset):\n",
    "    def __init__(self, dataset, tokenizer, max_length=512):\n",
    "        self.dataset = dataset\n",
    "        self.tokenizer = tokenizer\n",
    "        self.max_length = max_length\n",
    "\n",
    "    def __len__(self):\n",
    "        return len(self.dataset)\n",
    "\n",
    "    def __getitem__(self, idx):\n",
    "        item = self.dataset[idx]\n",
    "\n",
    "        # Get conversation and format it\n",
    "        conversation = item['conversations']\n",
    "        prompt = conversation[0]['value']  # Human prompt with <image>\n",
    "        response = conversation[1]['value']  # GPT response\n",
    "\n",
    "        # Combine prompt and response\n",
    "        full_text = self.tokenizer.apply_chat_template(\n",
    "            [\n",
    "                {\"role\": \"user\", \"content\": prompt},\n",
    "                {\"role\": \"assistant\", \"content\": response}\n",
    "            ],\n",
    "            add_generation_prompt=True,\n",
    "            tokenize=False,\n",
    "        )\n",
    "\n",
    "        # Tokenize\n",
    "        encodings = self.tokenizer(\n",
    "            full_text,\n",
    "            max_length=self.max_length,\n",
    "            padding='max_length',\n",
    "            truncation=True,\n",
    "            return_tensors='pt'\n",
    "        )\n",
    "\n",
    "        # Get image embeddings\n",
    "        image_embeddings = torch.tensor(item['embedding'])\n",
    "\n",
    "        return {\n",
    "            'input_ids': encodings['input_ids'].squeeze(),\n",
    "            'attention_mask': encodings['attention_mask'].squeeze(),\n",
    "            'image_embeddings': image_embeddings,\n",
    "            'labels': encodings['input_ids'].squeeze()  # Use same tokens for labels\n",
    "        }\n",
    "# Save checkpoint function\n",
    "def save_checkpoint(model, optimizer, scheduler, epoch, loss, filepath, config):\n",
    "    checkpoint = {\n",
    "        'epoch': epoch,\n",
    "        'model_state_dict': model.state_dict(),\n",
    "        'optimizer_state_dict': optimizer.state_dict(),\n",
    "        'scheduler_state_dict': scheduler.state_dict(),\n",
    "        'loss': loss,\n",
    "        'config': config,\n",
    "        'torch_rng_state': torch.get_rng_state(),\n",
    "        'numpy_rng_state': np.random.get_state(),\n",
    "        'random_rng_state': random.getstate(),\n",
    "    }\n",
    "    if torch.cuda.is_available():\n",
    "        checkpoint['cuda_rng_state'] = torch.cuda.get_rng_state()\n",
    "\n",
    "    torch.save(checkpoint, filepath)\n",
    "    print(f\"Checkpoint saved at {filepath}\")\n",
    "\n",
    "# Load checkpoint function\n",
    "def load_checkpoint(filepath, model, optimizer=None, scheduler=None):\n",
    "    checkpoint = torch.load(filepath, weights_only=False)\n",
    "    model.load_state_dict(checkpoint['model_state_dict'])\n",
    "\n",
    "    # Restore random states\n",
    "    torch.set_rng_state(checkpoint['torch_rng_state'])\n",
    "    np.random.set_state(checkpoint['numpy_rng_state'])\n",
    "    random.setstate(checkpoint['random_rng_state'])\n",
    "    if torch.cuda.is_available() and 'cuda_rng_state' in checkpoint:\n",
    "        torch.cuda.set_rng_state(checkpoint['cuda_rng_state'])\n",
    "\n",
    "    if optimizer is not None:\n",
    "        optimizer.load_state_dict(checkpoint['optimizer_state_dict'])\n",
    "\n",
    "    if scheduler is not None:\n",
    "        scheduler.load_state_dict(checkpoint['scheduler_state_dict'])\n",
    "\n",
    "    return checkpoint['epoch'], checkpoint['loss'], checkpoint['config']\n",
    "\n",
    "# Modified training function\n",
    "def train_model(model, train_dataset, val_dataset, config, resume_from_checkpoint=None):\n",
    "    \"\"\"\n",
    "    Training loop for MultimodalLlama with checkpoint support\n",
    "    \"\"\"\n",
    "    dt = datetime.datetime.now().strftime(\"%Y%m%d_%H%M%S\")\n",
    "\n",
    "    # Create checkpoint directory\n",
    "    checkpoint_dir = f'/content/drive/My Drive/FP_NLP_EXPERIMENTS/3_TRAINING_MODELS/{dt}'\n",
    "    os.makedirs(checkpoint_dir, exist_ok=True)\n",
    "\n",
    "    # Initialize wandb\n",
    "    wandb.init(\n",
    "        project=\"multimodal-llama\",\n",
    "        config=config,\n",
    "        resume=\"allow\" if resume_from_checkpoint else None\n",
    "    )\n",
    "\n",
    "    # Create dataloaders\n",
    "    train_loader = DataLoader(\n",
    "        train_dataset,\n",
    "        batch_size=config['batch_size'],\n",
    "        shuffle=True,\n",
    "        num_workers=config['num_workers']\n",
    "    )\n",
    "\n",
    "    val_loader = DataLoader(\n",
    "        val_dataset,\n",
    "        batch_size=config['batch_size'],\n",
    "        shuffle=False,\n",
    "        num_workers=config['num_workers']\n",
    "    )\n",
    "\n",
    "    # Setup optimizer and scheduler\n",
    "    optimizer = torch.optim.AdamW(\n",
    "        model.parameters(),\n",
    "        lr=config['learning_rate'],\n",
    "        weight_decay=config['weight_decay']\n",
    "    )\n",
    "\n",
    "    num_training_steps = len(train_loader) * config['num_epochs']\n",
    "    num_warmup_steps = int(num_training_steps * config['warmup_ratio'])\n",
    "\n",
    "    scheduler = get_cosine_schedule_with_warmup(\n",
    "        optimizer,\n",
    "        num_warmup_steps=num_warmup_steps,\n",
    "        num_training_steps=num_training_steps\n",
    "    )\n",
    "\n",
    "    # Move model to device\n",
    "    device = torch.device(\"cuda\" if torch.cuda.is_available() else \"cpu\")\n",
    "    model = model.to(device)\n",
    "\n",
    "    # Resume from checkpoint if provided\n",
    "    start_epoch = 0\n",
    "    best_val_loss = float('inf')\n",
    "\n",
    "    if resume_from_checkpoint:\n",
    "        print(f\"Resuming from checkpoint: {resume_from_checkpoint}\")\n",
    "        start_epoch, best_val_loss, loaded_config = load_checkpoint(\n",
    "            resume_from_checkpoint, model, optimizer, scheduler\n",
    "        )\n",
    "        start_epoch += 1  # Start from next epoch\n",
    "        print(f\"Resumed from epoch {start_epoch}, best val loss: {best_val_loss}\")\n",
    "\n",
    "    # Training loop\n",
    "    for epoch in range(start_epoch, config['num_epochs']):\n",
    "        model.train()\n",
    "        total_train_loss = 0\n",
    "\n",
    "        # Training\n",
    "        train_pbar = tqdm(train_loader, desc=f'Epoch {epoch+1}/{config[\"num_epochs\"]} [Train]')\n",
    "        for batch_idx, batch in enumerate(train_pbar):\n",
    "            # Move batch to device\n",
    "            batch = {k: v.to(device) for k, v in batch.items()}\n",
    "\n",
    "            # Clear gradients\n",
    "            optimizer.zero_grad()\n",
    "\n",
    "            # Forward pass\n",
    "            outputs = model(\n",
    "                input_ids=batch['input_ids'],\n",
    "                image_features=batch['image_embeddings'],\n",
    "                attention_mask=batch['attention_mask'],\n",
    "                labels=batch['labels']\n",
    "            )\n",
    "\n",
    "            loss = outputs.loss\n",
    "            total_train_loss += loss.item()\n",
    "\n",
    "            # Backward pass\n",
    "            loss.backward()\n",
    "\n",
    "            # Clip gradients\n",
    "            torch.nn.utils.clip_grad_norm_(model.parameters(), config['max_grad_norm'])\n",
    "\n",
    "            # Update weights\n",
    "            optimizer.step()\n",
    "            scheduler.step()\n",
    "\n",
    "            # Update progress bar\n",
    "            train_pbar.set_postfix({'loss': loss.item()})\n",
    "\n",
    "            # Log to wandb\n",
    "            wandb.log({\n",
    "                'train_batch_loss': loss.item(),\n",
    "                'learning_rate': scheduler.get_last_lr()[0],\n",
    "                'epoch': epoch,\n",
    "                'batch': batch_idx\n",
    "            })\n",
    "\n",
    "        avg_train_loss = total_train_loss / len(train_loader)\n",
    "\n",
    "        # Validation\n",
    "        model.eval()\n",
    "        total_val_loss = 0\n",
    "\n",
    "        val_pbar = tqdm(val_loader, desc=f'Epoch {epoch+1}/{config[\"num_epochs\"]} [Val]')\n",
    "        with torch.no_grad():\n",
    "            for batch in val_pbar:\n",
    "                batch = {k: v.to(device) for k, v in batch.items()}\n",
    "\n",
    "                outputs = model(\n",
    "                    input_ids=batch['input_ids'],\n",
    "                    image_features=batch['image_embeddings'],\n",
    "                    attention_mask=batch['attention_mask'],\n",
    "                    labels=batch['labels']\n",
    "                )\n",
    "\n",
    "                loss = outputs.loss\n",
    "                total_val_loss += loss.item()\n",
    "\n",
    "                val_pbar.set_postfix({'loss': loss.item()})\n",
    "\n",
    "        avg_val_loss = total_val_loss / len(val_loader)\n",
    "\n",
    "        # Log epoch metrics\n",
    "        wandb.log({\n",
    "            'train_epoch_loss': avg_train_loss,\n",
    "            'val_epoch_loss': avg_val_loss,\n",
    "            'epoch': epoch\n",
    "        })\n",
    "\n",
    "        # Save checkpoint after each epoch\n",
    "        checkpoint_path = os.path.join(checkpoint_dir, f'checkpoint_epoch_{epoch}.pt')\n",
    "        save_checkpoint(model, optimizer, scheduler, epoch, avg_val_loss, checkpoint_path, config)\n",
    "\n",
    "        # Save best model\n",
    "        if avg_val_loss < best_val_loss:\n",
    "            best_val_loss = avg_val_loss\n",
    "            best_model_path = os.path.join(checkpoint_dir, f'best_model_epoch_{epoch}.pt')\n",
    "            torch.save(model.state_dict(), best_model_path)\n",
    "            print(f\"New best model saved at epoch {epoch}\")\n",
    "\n",
    "        print(f'Epoch {epoch+1}: Train Loss = {avg_train_loss:.4f}, Val Loss = {avg_val_loss:.4f}')\n",
    "\n",
    "        # Early stopping condition for phase 1 (epochs 1-3)\n",
    "        if config.get('phase') == 1 and epoch >= 2:  # 0-indexed, so 2 = epoch 3\n",
    "            print(f\"Phase 1 complete. Stopping at epoch {epoch+1}\")\n",
    "            break\n",
    "\n",
    "    wandb.finish()\n",
    "    return model\n",
    "\n",
    "\n"
   ]
  },
  {
   "cell_type": "code",
   "execution_count": null,
   "metadata": {
    "id": "l8bSNg1rEeim"
   },
   "outputs": [],
   "source": [
    "# Training configuration\n",
    "config = {\n",
    "    'batch_size': 8,\n",
    "    'num_workers': 11,\n",
    "    'learning_rate': 2e-5,\n",
    "    'weight_decay': 0.01,\n",
    "    'num_epochs': 6,\n",
    "    'warmup_ratio': 0.1,\n",
    "    'max_grad_norm': 1.0,\n",
    "    'max_length': 512,\n",
    "    'phase': 1,  # 1 for epochs 1-3, 2 for epochs 4-6\n",
    "    'seed': 42\n",
    "}\n",
    "\n",
    "# Usage example:\n",
    "def main():\n",
    "    # Set seed for reproducibility\n",
    "    set_seed(config['seed'])\n",
    "\n",
    "    # Initialize tokenizer and model\n",
    "    tokenizer = AutoTokenizer.from_pretrained(\"alpindale/Llama-3.2-1B-Instruct\")\n",
    "\n",
    "    # Set pad token to eos token if it doesn't exist\n",
    "    if tokenizer.pad_token is None:\n",
    "        tokenizer.pad_token = tokenizer.eos_token\n",
    "    tokenizer.padding_side = \"right\"\n",
    "\n",
    "    # Add special tokens\n",
    "    special_tokens = {'additional_special_tokens': ['<image>', '</image>']}\n",
    "    num_added_tokens = tokenizer.add_special_tokens(special_tokens)\n",
    "\n",
    "    # Print to verify the token was added\n",
    "    print(\"Image token ID:\", tokenizer.convert_tokens_to_ids(\"<image>\"))\n",
    "\n",
    "    # Initialize model\n",
    "    model = MultimodalLlama()\n",
    "\n",
    "    # Resize token embeddings to account for new special tokens\n",
    "    model.llama.resize_token_embeddings(len(tokenizer))\n",
    "\n",
    "    model.llama.eval()\n",
    "\n",
    "    for param in model.llama.parameters():\n",
    "        param.requires_grad = False\n",
    "\n",
    "    # Only projection layer parameters should be trainable\n",
    "    for param in model.vision_projection.parameters():\n",
    "        param.requires_grad = True\n",
    "\n",
    "    # Prepare datasets\n",
    "    split_datasets = ds['train'].train_test_split(\n",
    "        test_size=0.1,\n",
    "        seed=42\n",
    "    )\n",
    "\n",
    "    train_dataset = MultimodalDataset(split_datasets['train'], tokenizer)\n",
    "    val_dataset = MultimodalDataset(split_datasets['test'], tokenizer)\n",
    "\n",
    "    # PHASE 1: Train epochs 1-3\n",
    "    print(\"Starting Phase 1: Epochs 1-3\")\n",
    "    config['phase'] = 1\n",
    "    config['num_epochs'] = 3\n",
    "\n",
    "    trained_model = train_model(model, train_dataset, val_dataset, config)\n",
    "\n",
    "    print(\"Phase 1 complete! Use the generated checkpoint to continue Phase 2.\")\n",
    "\n",
    "# Function to resume training (for Phase 2)\n",
    "def resume_training(checkpoint_path):\n",
    "    # Set seed for reproducibility\n",
    "    set_seed(config['seed'])\n",
    "\n",
    "    # Initialize tokenizer and model\n",
    "    tokenizer = AutoTokenizer.from_pretrained(\"alpindale/Llama-3.2-1B-Instruct\")\n",
    "\n",
    "    if tokenizer.pad_token is None:\n",
    "        tokenizer.pad_token = tokenizer.eos_token\n",
    "    tokenizer.padding_side = \"right\"\n",
    "\n",
    "    special_tokens = {'additional_special_tokens': ['<image>', '</image>']}\n",
    "    num_added_tokens = tokenizer.add_special_tokens(special_tokens)\n",
    "\n",
    "    model = MultimodalLlama()\n",
    "    model.llama.resize_token_embeddings(len(tokenizer))\n",
    "\n",
    "    model.llama.eval()\n",
    "    for param in model.llama.parameters():\n",
    "        param.requires_grad = False\n",
    "    for param in model.vision_projection.parameters():\n",
    "        param.requires_grad = True\n",
    "\n",
    "    # Prepare datasets\n",
    "    split_datasets = ds['train'].train_test_split(\n",
    "        test_size=0.1,\n",
    "        seed=42\n",
    "    )\n",
    "\n",
    "    train_dataset = MultimodalDataset(split_datasets['train'], tokenizer)\n",
    "    val_dataset = MultimodalDataset(split_datasets['test'], tokenizer)\n",
    "\n",
    "    # PHASE 2: Train epochs 4-6\n",
    "    print(\"Starting Phase 2: Epochs 4-6\")\n",
    "    config['phase'] = 2\n",
    "    config['num_epochs'] = 6\n",
    "\n",
    "    trained_model = train_model(\n",
    "        model,\n",
    "        train_dataset,\n",
    "        val_dataset,\n",
    "        config,\n",
    "        resume_from_checkpoint=checkpoint_path\n",
    "    )\n",
    "\n",
    "    # Save final model\n",
    "    torch.save(trained_model.state_dict(), 'final_model.pt')\n",
    "    print(\"Training complete!\")\n"
   ]
  },
  {
   "cell_type": "code",
   "execution_count": null,
   "metadata": {
    "colab": {
     "base_uri": "https://localhost:8080/",
     "height": 1000
    },
    "executionInfo": {
     "elapsed": 13713,
     "status": "error",
     "timestamp": 1750181100415,
     "user": {
      "displayName": "Abdan Hafidz",
      "userId": "09821924593193452293"
     },
     "user_tz": -420
    },
    "id": "qGKsaG_2EwuI",
    "outputId": "0c34756c-6a66-4500-e3e4-183bcb777a9e"
   },
   "outputs": [
    {
     "name": "stdout",
     "output_type": "stream",
     "text": [
      "Image token ID: 128256\n",
      "Starting Phase 1: Epochs 1-3\n"
     ]
    },
    {
     "data": {
      "text/html": [
       "Finishing previous runs because reinit is set to 'default'."
      ],
      "text/plain": [
       "<IPython.core.display.HTML object>"
      ]
     },
     "metadata": {},
     "output_type": "display_data"
    },
    {
     "data": {
      "text/html": [],
      "text/plain": [
       "<IPython.core.display.HTML object>"
      ]
     },
     "metadata": {},
     "output_type": "display_data"
    },
    {
     "data": {
      "text/html": [
       "<br>    <style><br>        .wandb-row {<br>            display: flex;<br>            flex-direction: row;<br>            flex-wrap: wrap;<br>            justify-content: flex-start;<br>            width: 100%;<br>        }<br>        .wandb-col {<br>            display: flex;<br>            flex-direction: column;<br>            flex-basis: 100%;<br>            flex: 1;<br>            padding: 10px;<br>        }<br>    </style><br><div class=\"wandb-row\"><div class=\"wandb-col\"><h3>Run history:</h3><br/><table class=\"wandb\"><tr><td>batch</td><td>▁▁▁▃▃▄▄▄▄▅▅▆▆▇▂▃▃▃▄▄▅▅▅▅▅▅▆▆▆▇▇▇█▁▂▂▂▃▃▃</td></tr><tr><td>epoch</td><td>▁▁▁▁▁▁▁▁▁▁▁▁▁▁▁▁▁▅▅▅▅▅▅▅▅▅▅▅▅▅▅▅▅▅▅▅▅███</td></tr><tr><td>learning_rate</td><td>▁▁▃▃▇█████▇▇▇▇▇▆▆▆▆▆▅▅▅▅▅▅▄▄▄▄▃▃▃▃▂▂▂▂▂▂</td></tr><tr><td>train_batch_loss</td><td>█▃▃▂▂▄▁▃▂▄▂▃▂▃▂▂▂▂▂▂▂▂▃▃▂▃▂▂▃▂▂▃▂▃▂▁▂▂▂▃</td></tr><tr><td>train_epoch_loss</td><td>█▁</td></tr><tr><td>val_epoch_loss</td><td>█▁</td></tr></table><br/></div><div class=\"wandb-col\"><h3>Run summary:</h3><br/><table class=\"wandb\"><tr><td>batch</td><td>472</td></tr><tr><td>epoch</td><td>2</td></tr><tr><td>learning_rate</td><td>0.0</td></tr><tr><td>train_batch_loss</td><td>1.79432</td></tr><tr><td>train_epoch_loss</td><td>1.78459</td></tr><tr><td>val_epoch_loss</td><td>1.76099</td></tr></table><br/></div></div>"
      ],
      "text/plain": [
       "<IPython.core.display.HTML object>"
      ]
     },
     "metadata": {},
     "output_type": "display_data"
    },
    {
     "data": {
      "text/html": [
       " View run <strong style=\"color:#cdcd00\">honest-snow-58</strong> at: <a href='https://wandb.ai/abdan-hafidz-institut-teknologi-sepuluh-nopember/multimodal-llama/runs/7rql31w4' target=\"_blank\">https://wandb.ai/abdan-hafidz-institut-teknologi-sepuluh-nopember/multimodal-llama/runs/7rql31w4</a><br> View project at: <a href='https://wandb.ai/abdan-hafidz-institut-teknologi-sepuluh-nopember/multimodal-llama' target=\"_blank\">https://wandb.ai/abdan-hafidz-institut-teknologi-sepuluh-nopember/multimodal-llama</a><br>Synced 5 W&B file(s), 0 media file(s), 0 artifact file(s) and 0 other file(s)"
      ],
      "text/plain": [
       "<IPython.core.display.HTML object>"
      ]
     },
     "metadata": {},
     "output_type": "display_data"
    },
    {
     "data": {
      "text/html": [
       "Find logs at: <code>./wandb/run-20250617_161811-7rql31w4/logs</code>"
      ],
      "text/plain": [
       "<IPython.core.display.HTML object>"
      ]
     },
     "metadata": {},
     "output_type": "display_data"
    },
    {
     "data": {
      "text/html": [
       "Tracking run with wandb version 0.20.1"
      ],
      "text/plain": [
       "<IPython.core.display.HTML object>"
      ]
     },
     "metadata": {},
     "output_type": "display_data"
    },
    {
     "data": {
      "text/html": [
       "Run data is saved locally in <code>/content/wandb/run-20250617_172453-qbq2urcl</code>"
      ],
      "text/plain": [
       "<IPython.core.display.HTML object>"
      ]
     },
     "metadata": {},
     "output_type": "display_data"
    },
    {
     "data": {
      "text/html": [
       "Syncing run <strong><a href='https://wandb.ai/abdan-hafidz-institut-teknologi-sepuluh-nopember/multimodal-llama/runs/qbq2urcl' target=\"_blank\">dandy-capybara-59</a></strong> to <a href='https://wandb.ai/abdan-hafidz-institut-teknologi-sepuluh-nopember/multimodal-llama' target=\"_blank\">Weights & Biases</a> (<a href='https://wandb.me/developer-guide' target=\"_blank\">docs</a>)<br>"
      ],
      "text/plain": [
       "<IPython.core.display.HTML object>"
      ]
     },
     "metadata": {},
     "output_type": "display_data"
    },
    {
     "data": {
      "text/html": [
       " View project at <a href='https://wandb.ai/abdan-hafidz-institut-teknologi-sepuluh-nopember/multimodal-llama' target=\"_blank\">https://wandb.ai/abdan-hafidz-institut-teknologi-sepuluh-nopember/multimodal-llama</a>"
      ],
      "text/plain": [
       "<IPython.core.display.HTML object>"
      ]
     },
     "metadata": {},
     "output_type": "display_data"
    },
    {
     "data": {
      "text/html": [
       " View run at <a href='https://wandb.ai/abdan-hafidz-institut-teknologi-sepuluh-nopember/multimodal-llama/runs/qbq2urcl' target=\"_blank\">https://wandb.ai/abdan-hafidz-institut-teknologi-sepuluh-nopember/multimodal-llama/runs/qbq2urcl</a>"
      ],
      "text/plain": [
       "<IPython.core.display.HTML object>"
      ]
     },
     "metadata": {},
     "output_type": "display_data"
    },
    {
     "name": "stderr",
     "output_type": "stream",
     "text": [
      "Epoch 1/3 [Train]:   0%|          | 0/1125 [00:02<?, ?it/s]\n"
     ]
    },
    {
     "ename": "OutOfMemoryError",
     "evalue": "CUDA out of memory. Tried to allocate 2.14 GiB. GPU 0 has a total capacity of 39.56 GiB of which 328.88 MiB is free. Process 26303 has 39.23 GiB memory in use. Of the allocated memory 38.64 GiB is allocated by PyTorch, and 96.68 MiB is reserved by PyTorch but unallocated. If reserved but unallocated memory is large try setting PYTORCH_CUDA_ALLOC_CONF=expandable_segments:True to avoid fragmentation.  See documentation for Memory Management  (https://pytorch.org/docs/stable/notes/cuda.html#environment-variables)",
     "output_type": "error",
     "traceback": [
      "\u001b[0;31m---------------------------------------------------------------------------\u001b[0m",
      "\u001b[0;31mOutOfMemoryError\u001b[0m                          Traceback (most recent call last)",
      "\u001b[0;32m<ipython-input-17-2704246972>\u001b[0m in \u001b[0;36m<cell line: 0>\u001b[0;34m()\u001b[0m\n\u001b[1;32m      1\u001b[0m \u001b[0;32mif\u001b[0m \u001b[0m__name__\u001b[0m \u001b[0;34m==\u001b[0m \u001b[0;34m\"__main__\"\u001b[0m\u001b[0;34m:\u001b[0m\u001b[0;34m\u001b[0m\u001b[0;34m\u001b[0m\u001b[0m\n\u001b[0;32m----> 2\u001b[0;31m     \u001b[0mmain\u001b[0m\u001b[0;34m(\u001b[0m\u001b[0;34m)\u001b[0m\u001b[0;34m\u001b[0m\u001b[0;34m\u001b[0m\u001b[0m\n\u001b[0m\u001b[1;32m      3\u001b[0m \u001b[0;34m\u001b[0m\u001b[0m\n\u001b[1;32m      4\u001b[0m     \u001b[0;31m# For tomorrow (Phase 2) - uncomment and use the checkpoint path\u001b[0m\u001b[0;34m\u001b[0m\u001b[0;34m\u001b[0m\u001b[0m\n\u001b[1;32m      5\u001b[0m     \u001b[0;31m# checkpoint_path = \"/path/to/your/checkpoint_epoch_2.pt\"\u001b[0m\u001b[0;34m\u001b[0m\u001b[0;34m\u001b[0m\u001b[0m\n",
      "\u001b[0;32m<ipython-input-15-952720879>\u001b[0m in \u001b[0;36mmain\u001b[0;34m()\u001b[0m\n\u001b[1;32m     62\u001b[0m     \u001b[0mconfig\u001b[0m\u001b[0;34m[\u001b[0m\u001b[0;34m'num_epochs'\u001b[0m\u001b[0;34m]\u001b[0m \u001b[0;34m=\u001b[0m \u001b[0;36m3\u001b[0m\u001b[0;34m\u001b[0m\u001b[0;34m\u001b[0m\u001b[0m\n\u001b[1;32m     63\u001b[0m \u001b[0;34m\u001b[0m\u001b[0m\n\u001b[0;32m---> 64\u001b[0;31m     \u001b[0mtrained_model\u001b[0m \u001b[0;34m=\u001b[0m \u001b[0mtrain_model\u001b[0m\u001b[0;34m(\u001b[0m\u001b[0mmodel\u001b[0m\u001b[0;34m,\u001b[0m \u001b[0mtrain_dataset\u001b[0m\u001b[0;34m,\u001b[0m \u001b[0mval_dataset\u001b[0m\u001b[0;34m,\u001b[0m \u001b[0mconfig\u001b[0m\u001b[0;34m)\u001b[0m\u001b[0;34m\u001b[0m\u001b[0;34m\u001b[0m\u001b[0m\n\u001b[0m\u001b[1;32m     65\u001b[0m \u001b[0;34m\u001b[0m\u001b[0m\n\u001b[1;32m     66\u001b[0m     \u001b[0mprint\u001b[0m\u001b[0;34m(\u001b[0m\u001b[0;34m\"Phase 1 complete! Use the generated checkpoint to continue Phase 2.\"\u001b[0m\u001b[0;34m)\u001b[0m\u001b[0;34m\u001b[0m\u001b[0;34m\u001b[0m\u001b[0m\n",
      "\u001b[0;32m<ipython-input-14-1126330293>\u001b[0m in \u001b[0;36mtrain_model\u001b[0;34m(model, train_dataset, val_dataset, config, resume_from_checkpoint)\u001b[0m\n\u001b[1;32m    199\u001b[0m \u001b[0;34m\u001b[0m\u001b[0m\n\u001b[1;32m    200\u001b[0m             \u001b[0;31m# Backward pass\u001b[0m\u001b[0;34m\u001b[0m\u001b[0;34m\u001b[0m\u001b[0m\n\u001b[0;32m--> 201\u001b[0;31m             \u001b[0mloss\u001b[0m\u001b[0;34m.\u001b[0m\u001b[0mbackward\u001b[0m\u001b[0;34m(\u001b[0m\u001b[0;34m)\u001b[0m\u001b[0;34m\u001b[0m\u001b[0;34m\u001b[0m\u001b[0m\n\u001b[0m\u001b[1;32m    202\u001b[0m \u001b[0;34m\u001b[0m\u001b[0m\n\u001b[1;32m    203\u001b[0m             \u001b[0;31m# Clip gradients\u001b[0m\u001b[0;34m\u001b[0m\u001b[0;34m\u001b[0m\u001b[0m\n",
      "\u001b[0;32m/usr/local/lib/python3.11/dist-packages/torch/_tensor.py\u001b[0m in \u001b[0;36mbackward\u001b[0;34m(self, gradient, retain_graph, create_graph, inputs)\u001b[0m\n\u001b[1;32m    624\u001b[0m                 \u001b[0minputs\u001b[0m\u001b[0;34m=\u001b[0m\u001b[0minputs\u001b[0m\u001b[0;34m,\u001b[0m\u001b[0;34m\u001b[0m\u001b[0;34m\u001b[0m\u001b[0m\n\u001b[1;32m    625\u001b[0m             )\n\u001b[0;32m--> 626\u001b[0;31m         torch.autograd.backward(\n\u001b[0m\u001b[1;32m    627\u001b[0m             \u001b[0mself\u001b[0m\u001b[0;34m,\u001b[0m \u001b[0mgradient\u001b[0m\u001b[0;34m,\u001b[0m \u001b[0mretain_graph\u001b[0m\u001b[0;34m,\u001b[0m \u001b[0mcreate_graph\u001b[0m\u001b[0;34m,\u001b[0m \u001b[0minputs\u001b[0m\u001b[0;34m=\u001b[0m\u001b[0minputs\u001b[0m\u001b[0;34m\u001b[0m\u001b[0;34m\u001b[0m\u001b[0m\n\u001b[1;32m    628\u001b[0m         )\n",
      "\u001b[0;32m/usr/local/lib/python3.11/dist-packages/torch/autograd/__init__.py\u001b[0m in \u001b[0;36mbackward\u001b[0;34m(tensors, grad_tensors, retain_graph, create_graph, grad_variables, inputs)\u001b[0m\n\u001b[1;32m    345\u001b[0m     \u001b[0;31m# some Python versions print out the first line of a multi-line function\u001b[0m\u001b[0;34m\u001b[0m\u001b[0;34m\u001b[0m\u001b[0m\n\u001b[1;32m    346\u001b[0m     \u001b[0;31m# calls in the traceback and some print out the last line\u001b[0m\u001b[0;34m\u001b[0m\u001b[0;34m\u001b[0m\u001b[0m\n\u001b[0;32m--> 347\u001b[0;31m     _engine_run_backward(\n\u001b[0m\u001b[1;32m    348\u001b[0m         \u001b[0mtensors\u001b[0m\u001b[0;34m,\u001b[0m\u001b[0;34m\u001b[0m\u001b[0;34m\u001b[0m\u001b[0m\n\u001b[1;32m    349\u001b[0m         \u001b[0mgrad_tensors_\u001b[0m\u001b[0;34m,\u001b[0m\u001b[0;34m\u001b[0m\u001b[0;34m\u001b[0m\u001b[0m\n",
      "\u001b[0;32m/usr/local/lib/python3.11/dist-packages/torch/autograd/graph.py\u001b[0m in \u001b[0;36m_engine_run_backward\u001b[0;34m(t_outputs, *args, **kwargs)\u001b[0m\n\u001b[1;32m    821\u001b[0m         \u001b[0munregister_hooks\u001b[0m \u001b[0;34m=\u001b[0m \u001b[0m_register_logging_hooks_on_whole_graph\u001b[0m\u001b[0;34m(\u001b[0m\u001b[0mt_outputs\u001b[0m\u001b[0;34m)\u001b[0m\u001b[0;34m\u001b[0m\u001b[0;34m\u001b[0m\u001b[0m\n\u001b[1;32m    822\u001b[0m     \u001b[0;32mtry\u001b[0m\u001b[0;34m:\u001b[0m\u001b[0;34m\u001b[0m\u001b[0;34m\u001b[0m\u001b[0m\n\u001b[0;32m--> 823\u001b[0;31m         return Variable._execution_engine.run_backward(  # Calls into the C++ engine to run the backward pass\n\u001b[0m\u001b[1;32m    824\u001b[0m             \u001b[0mt_outputs\u001b[0m\u001b[0;34m,\u001b[0m \u001b[0;34m*\u001b[0m\u001b[0margs\u001b[0m\u001b[0;34m,\u001b[0m \u001b[0;34m**\u001b[0m\u001b[0mkwargs\u001b[0m\u001b[0;34m\u001b[0m\u001b[0;34m\u001b[0m\u001b[0m\n\u001b[1;32m    825\u001b[0m         )  # Calls into the C++ engine to run the backward pass\n",
      "\u001b[0;31mOutOfMemoryError\u001b[0m: CUDA out of memory. Tried to allocate 2.14 GiB. GPU 0 has a total capacity of 39.56 GiB of which 328.88 MiB is free. Process 26303 has 39.23 GiB memory in use. Of the allocated memory 38.64 GiB is allocated by PyTorch, and 96.68 MiB is reserved by PyTorch but unallocated. If reserved but unallocated memory is large try setting PYTORCH_CUDA_ALLOC_CONF=expandable_segments:True to avoid fragmentation.  See documentation for Memory Management  (https://pytorch.org/docs/stable/notes/cuda.html#environment-variables)"
     ]
    }
   ],
   "source": [
    "\n",
    "if __name__ == \"__main__\":\n",
    "    main()\n",
    "\n",
    "    # For tomorrow (Phase 2) - uncomment and use the checkpoint path\n",
    "    # checkpoint_path = \"/path/to/your/checkpoint_epoch_2.pt\"\n",
    "    # resume_training(checkpoint_path)"
   ]
  },
  {
   "cell_type": "code",
   "execution_count": null,
   "metadata": {
    "colab": {
     "base_uri": "https://localhost:8080/",
     "height": 1000
    },
    "executionInfo": {
     "elapsed": 6691531,
     "status": "ok",
     "timestamp": 1750187943028,
     "user": {
      "displayName": "Abdan Hafidz",
      "userId": "09821924593193452293"
     },
     "user_tz": -420
    },
    "id": "pMo_HgfQObcX",
    "outputId": "1770711f-8a38-489e-ac2c-d4baa3b0ea92"
   },
   "outputs": [
    {
     "name": "stderr",
     "output_type": "stream",
     "text": [
      "The new embeddings will be initialized from a multivariate normal distribution that has old embeddings' mean and covariance. As described in this article: https://nlp.stanford.edu/~johnhew/vocab-expansion.html. To disable this, use `mean_resizing=False`\n"
     ]
    },
    {
     "name": "stdout",
     "output_type": "stream",
     "text": [
      "Starting Phase 2: Epochs 4-6\n"
     ]
    },
    {
     "data": {
      "text/html": [
       "Tracking run with wandb version 0.20.1"
      ],
      "text/plain": [
       "<IPython.core.display.HTML object>"
      ]
     },
     "metadata": {},
     "output_type": "display_data"
    },
    {
     "data": {
      "text/html": [
       "Run data is saved locally in <code>/content/wandb/run-20250617_172742-ykhp31so</code>"
      ],
      "text/plain": [
       "<IPython.core.display.HTML object>"
      ]
     },
     "metadata": {},
     "output_type": "display_data"
    },
    {
     "data": {
      "text/html": [
       "Syncing run <strong><a href='https://wandb.ai/abdan-hafidz-institut-teknologi-sepuluh-nopember/multimodal-llama/runs/ykhp31so' target=\"_blank\">super-puddle-60</a></strong> to <a href='https://wandb.ai/abdan-hafidz-institut-teknologi-sepuluh-nopember/multimodal-llama' target=\"_blank\">Weights & Biases</a> (<a href='https://wandb.me/developer-guide' target=\"_blank\">docs</a>)<br>"
      ],
      "text/plain": [
       "<IPython.core.display.HTML object>"
      ]
     },
     "metadata": {},
     "output_type": "display_data"
    },
    {
     "data": {
      "text/html": [
       " View project at <a href='https://wandb.ai/abdan-hafidz-institut-teknologi-sepuluh-nopember/multimodal-llama' target=\"_blank\">https://wandb.ai/abdan-hafidz-institut-teknologi-sepuluh-nopember/multimodal-llama</a>"
      ],
      "text/plain": [
       "<IPython.core.display.HTML object>"
      ]
     },
     "metadata": {},
     "output_type": "display_data"
    },
    {
     "data": {
      "text/html": [
       " View run at <a href='https://wandb.ai/abdan-hafidz-institut-teknologi-sepuluh-nopember/multimodal-llama/runs/ykhp31so' target=\"_blank\">https://wandb.ai/abdan-hafidz-institut-teknologi-sepuluh-nopember/multimodal-llama/runs/ykhp31so</a>"
      ],
      "text/plain": [
       "<IPython.core.display.HTML object>"
      ]
     },
     "metadata": {},
     "output_type": "display_data"
    },
    {
     "name": "stdout",
     "output_type": "stream",
     "text": [
      "Resuming from checkpoint: /content/drive/My Drive/FP_NLP_EXPERIMENTS/3_TRAINING_MODELS/20250617_161811/checkpoint_epoch_1.pt\n",
      "Resumed from epoch 2, best val loss: 1.7609914827346802\n"
     ]
    },
    {
     "name": "stderr",
     "output_type": "stream",
     "text": [
      "Epoch 3/6 [Train]: 100%|██████████| 1125/1125 [25:51<00:00,  1.38s/it, loss=1.82]\n",
      "Epoch 3/6 [Val]: 100%|██████████| 125/125 [01:24<00:00,  1.47it/s, loss=1.64]\n"
     ]
    },
    {
     "name": "stdout",
     "output_type": "stream",
     "text": [
      "Checkpoint saved at /content/drive/My Drive/FP_NLP_EXPERIMENTS/3_TRAINING_MODELS/20250617_172742/checkpoint_epoch_2.pt\n",
      "New best model saved at epoch 2\n",
      "Epoch 3: Train Loss = 1.7576, Val Loss = 1.7464\n"
     ]
    },
    {
     "name": "stderr",
     "output_type": "stream",
     "text": [
      "Epoch 4/6 [Train]: 100%|██████████| 1125/1125 [25:51<00:00,  1.38s/it, loss=1.88]\n",
      "Epoch 4/6 [Val]: 100%|██████████| 125/125 [01:24<00:00,  1.48it/s, loss=1.63]\n"
     ]
    },
    {
     "name": "stdout",
     "output_type": "stream",
     "text": [
      "Checkpoint saved at /content/drive/My Drive/FP_NLP_EXPERIMENTS/3_TRAINING_MODELS/20250617_172742/checkpoint_epoch_3.pt\n",
      "New best model saved at epoch 3\n",
      "Epoch 4: Train Loss = 1.7407, Val Loss = 1.7345\n"
     ]
    },
    {
     "name": "stderr",
     "output_type": "stream",
     "text": [
      "Epoch 5/6 [Train]: 100%|██████████| 1125/1125 [25:54<00:00,  1.38s/it, loss=1.55]\n",
      "Epoch 5/6 [Val]: 100%|██████████| 125/125 [01:24<00:00,  1.48it/s, loss=1.63]\n"
     ]
    },
    {
     "name": "stdout",
     "output_type": "stream",
     "text": [
      "Checkpoint saved at /content/drive/My Drive/FP_NLP_EXPERIMENTS/3_TRAINING_MODELS/20250617_172742/checkpoint_epoch_4.pt\n",
      "New best model saved at epoch 4\n",
      "Epoch 5: Train Loss = 1.7260, Val Loss = 1.7300\n"
     ]
    },
    {
     "name": "stderr",
     "output_type": "stream",
     "text": [
      "Epoch 6/6 [Train]: 100%|██████████| 1125/1125 [25:52<00:00,  1.38s/it, loss=1.27]\n",
      "Epoch 6/6 [Val]: 100%|██████████| 125/125 [01:24<00:00,  1.48it/s, loss=1.63]\n"
     ]
    },
    {
     "name": "stdout",
     "output_type": "stream",
     "text": [
      "Checkpoint saved at /content/drive/My Drive/FP_NLP_EXPERIMENTS/3_TRAINING_MODELS/20250617_172742/checkpoint_epoch_5.pt\n",
      "New best model saved at epoch 5\n",
      "Epoch 6: Train Loss = 1.7281, Val Loss = 1.7290\n"
     ]
    },
    {
     "data": {
      "text/html": [],
      "text/plain": [
       "<IPython.core.display.HTML object>"
      ]
     },
     "metadata": {},
     "output_type": "display_data"
    },
    {
     "data": {
      "text/html": [
       "<br>    <style><br>        .wandb-row {<br>            display: flex;<br>            flex-direction: row;<br>            flex-wrap: wrap;<br>            justify-content: flex-start;<br>            width: 100%;<br>        }<br>        .wandb-col {<br>            display: flex;<br>            flex-direction: column;<br>            flex-basis: 100%;<br>            flex: 1;<br>            padding: 10px;<br>        }<br>    </style><br><div class=\"wandb-row\"><div class=\"wandb-col\"><h3>Run history:</h3><br/><table class=\"wandb\"><tr><td>batch</td><td>▂▃▄▄▅▆▇██▂▃▄▄▅▅▆▆▂▂▂▄▄▄▄▅▅▅▆█▁▂▂▃▃▃▄▄▅▅▇</td></tr><tr><td>epoch</td><td>▁▁▁▁▁▁▁▁▁▁▁▁▁▃▃▃▃▃▃▃▃▃▃▃▆▆▆▆▆▆▆▆▆▆██████</td></tr><tr><td>learning_rate</td><td>█████▇▇▇▇▇▆▆▆▆▅▅▅▅▄▄▄▄▃▃▃▂▂▂▂▂▂▂▂▂▁▁▁▁▁▁</td></tr><tr><td>train_batch_loss</td><td>▄▄▅█▇▄▃▆▅▅▄▅▅▄▆█▄▇▆▅▄▃▁▃▅▆▃▄▅▄▅▄▂▆▆▅▅▇▄▇</td></tr><tr><td>train_epoch_loss</td><td>█▄▁▁</td></tr><tr><td>val_epoch_loss</td><td>█▃▁▁</td></tr></table><br/></div><div class=\"wandb-col\"><h3>Run summary:</h3><br/><table class=\"wandb\"><tr><td>batch</td><td>1124</td></tr><tr><td>epoch</td><td>5</td></tr><tr><td>learning_rate</td><td>0</td></tr><tr><td>train_batch_loss</td><td>1.26838</td></tr><tr><td>train_epoch_loss</td><td>1.7281</td></tr><tr><td>val_epoch_loss</td><td>1.72901</td></tr></table><br/></div></div>"
      ],
      "text/plain": [
       "<IPython.core.display.HTML object>"
      ]
     },
     "metadata": {},
     "output_type": "display_data"
    },
    {
     "data": {
      "text/html": [
       " View run <strong style=\"color:#cdcd00\">super-puddle-60</strong> at: <a href='https://wandb.ai/abdan-hafidz-institut-teknologi-sepuluh-nopember/multimodal-llama/runs/ykhp31so' target=\"_blank\">https://wandb.ai/abdan-hafidz-institut-teknologi-sepuluh-nopember/multimodal-llama/runs/ykhp31so</a><br> View project at: <a href='https://wandb.ai/abdan-hafidz-institut-teknologi-sepuluh-nopember/multimodal-llama' target=\"_blank\">https://wandb.ai/abdan-hafidz-institut-teknologi-sepuluh-nopember/multimodal-llama</a><br>Synced 5 W&B file(s), 0 media file(s), 0 artifact file(s) and 0 other file(s)"
      ],
      "text/plain": [
       "<IPython.core.display.HTML object>"
      ]
     },
     "metadata": {},
     "output_type": "display_data"
    },
    {
     "data": {
      "text/html": [
       "Find logs at: <code>./wandb/run-20250617_172742-ykhp31so/logs</code>"
      ],
      "text/plain": [
       "<IPython.core.display.HTML object>"
      ]
     },
     "metadata": {},
     "output_type": "display_data"
    },
    {
     "name": "stdout",
     "output_type": "stream",
     "text": [
      "Training complete!\n"
     ]
    }
   ],
   "source": [
    "checkpoint_path = \"/content/drive/My Drive/FP_NLP_EXPERIMENTS/3_TRAINING_MODELS/20250617_161811/checkpoint_epoch_1.pt\"\n",
    "resume_training(checkpoint_path)"
   ]
  },
  {
   "cell_type": "code",
   "execution_count": 15,
   "metadata": {
    "colab": {
     "base_uri": "https://localhost:8080/"
    },
    "executionInfo": {
     "elapsed": 61773,
     "status": "ok",
     "timestamp": 1750660454690,
     "user": {
      "displayName": "Abdan Hafidz",
      "userId": "09821924593193452293"
     },
     "user_tz": -420
    },
    "id": "-oEIg967GchY",
    "outputId": "adb3d845-1c9f-47d3-e654-d1ca5ac42db5"
   },
   "outputs": [
    {
     "name": "stdout",
     "output_type": "stream",
     "text": [
      "Models Path =   20250617_172742/best_model_epoch_5.pt\n",
      "File berhasil disalin ke /content/base_model.pt\n"
     ]
    }
   ],
   "source": [
    "import shutil\n",
    "embedding_file_name = input(\"Models Path =   \")\n",
    "# Path ke file sumber di Google Drive\n",
    "source_path = f'/content/drive/My Drive/FP_NLP_EXPERIMENTS/3_TRAINING_MODELS/{embedding_file_name}'\n",
    "\n",
    "# Path tujuan di direktori kerja Colab\n",
    "destination_path = '/content/base_model.pt'\n",
    "\n",
    "# Menyalin file\n",
    "shutil.copy(source_path, destination_path)\n",
    "\n",
    "print(f'File berhasil disalin ke {destination_path}')"
   ]
  },
  {
   "cell_type": "code",
   "execution_count": 16,
   "metadata": {
    "executionInfo": {
     "elapsed": 48,
     "status": "ok",
     "timestamp": 1750660473133,
     "user": {
      "displayName": "Abdan Hafidz",
      "userId": "09821924593193452293"
     },
     "user_tz": -420
    },
    "id": "HxKPblO0faag"
   },
   "outputs": [],
   "source": [
    "def fine_tuning():\n",
    "    config = {\n",
    "        'batch_size': 3,\n",
    "        'num_workers': 11,\n",
    "        'learning_rate': 2e-5,\n",
    "        'weight_decay': 0.01,\n",
    "        'num_epochs': 6,\n",
    "        'warmup_ratio': 0.1,\n",
    "        'max_grad_norm': 1.0,\n",
    "        'max_length': 512,\n",
    "        'phase': 1,  # 1 for epochs 1-3, 2 for epochs 4-6\n",
    "        'seed': 42\n",
    "    }\n",
    "    # Set seed for reproducibility\n",
    "    set_seed(config['seed'])\n",
    "\n",
    "    # Initialize tokenizer and model\n",
    "    tokenizer = AutoTokenizer.from_pretrained(\"alpindale/Llama-3.2-1B-Instruct\")\n",
    "\n",
    "    # Set pad token to eos token if it doesn't exist\n",
    "    if tokenizer.pad_token is None:\n",
    "        tokenizer.pad_token = tokenizer.eos_token\n",
    "    tokenizer.padding_side = \"right\"\n",
    "\n",
    "    # Add special tokens\n",
    "    special_tokens = {'additional_special_tokens': ['<image>', '</image>']}\n",
    "    num_added_tokens = tokenizer.add_special_tokens(special_tokens)\n",
    "\n",
    "    # Print to verify the token was added\n",
    "    print(\"Image token ID:\", tokenizer.convert_tokens_to_ids(\"<image>\"))\n",
    "\n",
    "    # Initialize model\n",
    "    model = MultimodalLlama()\n",
    "\n",
    "    # Resize token embeddings to account for new special tokens\n",
    "    model.llama.resize_token_embeddings(len(tokenizer))\n",
    "    model.load_state_dict(torch.load('/content/base_model.pt'))\n",
    "    model.llama.eval()\n",
    "\n",
    "    for param in model.llama.parameters():\n",
    "        param.requires_grad = True\n",
    "\n",
    "    # Only projection layer parameters should be trainable\n",
    "    for param in model.vision_projection.parameters():\n",
    "        param.requires_grad = True\n",
    "\n",
    "    # Prepare datasets\n",
    "    split_datasets = ds['train'].train_test_split(\n",
    "        test_size=0.1,\n",
    "        seed=42\n",
    "    )\n",
    "\n",
    "    train_dataset = MultimodalDataset(split_datasets['train'], tokenizer)\n",
    "    val_dataset = MultimodalDataset(split_datasets['test'], tokenizer)\n",
    "\n",
    "    # PHASE 1: Train epochs 1-3\n",
    "    print(\"Starting Phase 1: Epochs 1-3\")\n",
    "    config['phase'] = 1\n",
    "    config['num_epochs'] = 3\n",
    "\n",
    "    trained_model = train_model(model, train_dataset, val_dataset, config)\n",
    "\n",
    "    print(\"Phase 1 complete! Use the generated checkpoint to continue Phase 2.\")"
   ]
  },
  {
   "cell_type": "code",
   "execution_count": null,
   "metadata": {
    "colab": {
     "base_uri": "https://localhost:8080/",
     "height": 1000,
     "referenced_widgets": [
      "3565c65b81564254b261d43abc76ff4b",
      "da71edea399845da92943d9a6f15d1a9",
      "3751b83344f64c58b0163af51289bd3a",
      "b969dd0c551f4bcb826ad5eb3ca94163",
      "c8d8ded24ce54533a76775f380b60f8b",
      "88c6ac14bc3847f58854e7a86b1f3842",
      "47c42d100c41406b8ac2f986c3a147e8",
      "68ea0a6ec349413caf484963a6ff83ae",
      "e0b1b5fe75a94627b7e808ce5d183363",
      "ed70d9201a5c404cae6553b003b44871",
      "8867aa6e13914dbca4f1d027af85b52d",
      "22e3430bde454be1bc3c4c7b885b6edf",
      "4457bb336cb24f15a2b1dc5133b65aa1",
      "9a7aaa24e1774cd7a21c019e304954bc",
      "eaeec3dd51094966b191aaba04e2175b",
      "63b7b69cb4544278a77ef3893a9d3b66",
      "e1fcdf1903ad40d8aadb3a5fd27e4a08",
      "cebc7ccd9f4848989405e3c1cb0e26fc",
      "aea475311483475f938682c21c648b13",
      "85c024eedae74b129f70ec0eec4ff8a9",
      "07be6c68760348c6980c680a8c13ed31",
      "4c0679b710164d90b61f0cf66e6eec11",
      "ddd19ac08b674c5699ae4bb8f4f8fbe4",
      "c1ed83fb1bd24762813a714482ca513f",
      "5b42127219e24964831fedcf366514a7",
      "8032d4117ee0421597f5dbe9fe7ae49f",
      "f2e076f3de5c4d158f63587b3d643ae7",
      "c0ed383b4b584c8f89368695d182967c",
      "a43662ffd4544df3be120255b06eb777",
      "6b75a8cace4249ac8b920eeded0e57fa",
      "24923bc4016d4818949bf03682d2f6ed",
      "1ca0883e48074cc59ebf15fee776f827",
      "6448693f203546159bfbf95eb3e73165",
      "ca2bb2288cbf46fa9a5dc9ea9526bace",
      "d359891a93e447ce8e4c6f506f902411",
      "a87013b707b7426d8e8fdae71ce1d9e6",
      "b7aa5337dccd4ebcbaeeac11e145a0a8",
      "1d3c966914fe43448de47df6fcdea4f7",
      "f093b2611db545cd95860b897b9d1077",
      "bc8eb21110794e6dbec81ae761360767",
      "66f208eeb5954801af59efc7bdcd9dc7",
      "5d6150bd703a4619a9b9cb822091e50b",
      "2f5b7ee670cf4c15a05eecc752a19b5a",
      "a17d5439516349c586275d2606d45321",
      "9dc9cb3dadb24cf5bd8d4f61835adc27",
      "4e100246d5674ed290c5ab09df8bbfb7",
      "822ccd206fd14d418efd317d8c1665a8",
      "b73645f26b864edeaf1bcf5a1a305b47",
      "9b33cfb732df4660ba2f6adfb571c7dc",
      "b95ae45b9a764ea78a2271485e9b9820",
      "d36b6503ec6a4e4fb2d9b95ea1c851e0",
      "f27743312f664dae8cc99a674963622c",
      "e974f1a9d8d34f809acc6679ed4f534e",
      "0ce276f00b88459a95a733f90ef1308e",
      "c29c37090ac94e9ca1d40ba407b7a804",
      "5b356e224a43476bb8d0636c44a1e299",
      "74812b5ed79941a6b84a65e892e97652",
      "f9582652278b4c8abaf9abc218505876",
      "8fce3879d04b4b7fabf9fd9497653f08",
      "6016fd80b9e14ea48ef44557a04ebeab",
      "a14db60f3c31438d8101b6d2d50a7bf5",
      "d52f04f421ba445a8edac7ef4b328a54",
      "02e2e89edd4d44548ebfac90bc77d8c5",
      "a6602178b0fe42ceb9276b1113340640",
      "4bcf5e56e08a4c09ae547eb2b3ad37c2",
      "74d28670b77f4b869246ced913e9c206"
     ]
    },
    "collapsed": true,
    "executionInfo": {
     "elapsed": 7991799,
     "status": "ok",
     "timestamp": 1750668467800,
     "user": {
      "displayName": "Abdan Hafidz",
      "userId": "09821924593193452293"
     },
     "user_tz": -420
    },
    "id": "4Dj3DQdBfmkj",
    "outputId": "13866e7e-96d2-42cd-ee1f-d0ba389d22e4"
   },
   "outputs": [],
   "source": [
    "fine_tuning()"
   ]
  },
  {
   "cell_type": "code",
   "execution_count": 18,
   "metadata": {
    "executionInfo": {
     "elapsed": 124797,
     "status": "ok",
     "timestamp": 1750668607363,
     "user": {
      "displayName": "Abdan Hafidz",
      "userId": "09821924593193452293"
     },
     "user_tz": -420
    },
    "id": "7Glgk3Z_fn7h"
   },
   "outputs": [],
   "source": [
    "from google.colab import drive\n",
    "drive.flush_and_unmount()"
   ]
  },
  {
   "cell_type": "code",
   "execution_count": 19,
   "metadata": {
    "executionInfo": {
     "elapsed": 174,
     "status": "ok",
     "timestamp": 1750668643448,
     "user": {
      "displayName": "Abdan Hafidz",
      "userId": "09821924593193452293"
     },
     "user_tz": -420
    },
    "id": "SNtAvtWQfo9S"
   },
   "outputs": [],
   "source": [
    "from google.colab import runtime\n",
    "runtime.unassign()"
   ]
  },
  {
   "cell_type": "code",
   "execution_count": null,
   "metadata": {
    "id": "IAqY_NfB-4qe"
   },
   "outputs": [],
   "source": []
  }
 ],
 "metadata": {
  "accelerator": "GPU",
  "colab": {
   "gpuType": "A100",
   "machine_shape": "hm",
   "provenance": [
    {
     "file_id": "1F7Cnn3XjB87fI07wwdOcNp4-T5Qyt1JH",
     "timestamp": 1750660229333
    },
    {
     "file_id": "1wIbwyKVg6NKbCL_MNuF-ZtJqa2KsjIdr",
     "timestamp": 1750176706055
    },
    {
     "file_id": "14oJgZDDqM9vpaJA4kb8NcIcKkHJ2yoT3",
     "timestamp": 1750159309610
    },
    {
     "file_id": "1ZRzdCsBpWr3tal_5W_CUO35ff6ACX2vO",
     "timestamp": 1749566467880
    },
    {
     "file_id": "1EL05c9_Xi3OqR4UNT_AAaImOJsnjeBgv",
     "timestamp": 1747676632416
    }
   ]
  },
  "kernelspec": {
   "display_name": "Python 3",
   "name": "python3"
  },
  "language_info": {
   "name": "python"
  },
  "widgets": {
   "application/vnd.jupyter.widget-state+json": {
    "02e2e89edd4d44548ebfac90bc77d8c5": {
     "model_module": "@jupyter-widgets/base",
     "model_module_version": "1.2.0",
     "model_name": "LayoutModel",
     "state": {
      "_model_module": "@jupyter-widgets/base",
      "_model_module_version": "1.2.0",
      "_model_name": "LayoutModel",
      "_view_count": null,
      "_view_module": "@jupyter-widgets/base",
      "_view_module_version": "1.2.0",
      "_view_name": "LayoutView",
      "align_content": null,
      "align_items": null,
      "align_self": null,
      "border": null,
      "bottom": null,
      "display": null,
      "flex": null,
      "flex_flow": null,
      "grid_area": null,
      "grid_auto_columns": null,
      "grid_auto_flow": null,
      "grid_auto_rows": null,
      "grid_column": null,
      "grid_gap": null,
      "grid_row": null,
      "grid_template_areas": null,
      "grid_template_columns": null,
      "grid_template_rows": null,
      "height": null,
      "justify_content": null,
      "justify_items": null,
      "left": null,
      "margin": null,
      "max_height": null,
      "max_width": null,
      "min_height": null,
      "min_width": null,
      "object_fit": null,
      "object_position": null,
      "order": null,
      "overflow": null,
      "overflow_x": null,
      "overflow_y": null,
      "padding": null,
      "right": null,
      "top": null,
      "visibility": null,
      "width": null
     }
    },
    "07be6c68760348c6980c680a8c13ed31": {
     "model_module": "@jupyter-widgets/base",
     "model_module_version": "1.2.0",
     "model_name": "LayoutModel",
     "state": {
      "_model_module": "@jupyter-widgets/base",
      "_model_module_version": "1.2.0",
      "_model_name": "LayoutModel",
      "_view_count": null,
      "_view_module": "@jupyter-widgets/base",
      "_view_module_version": "1.2.0",
      "_view_name": "LayoutView",
      "align_content": null,
      "align_items": null,
      "align_self": null,
      "border": null,
      "bottom": null,
      "display": null,
      "flex": null,
      "flex_flow": null,
      "grid_area": null,
      "grid_auto_columns": null,
      "grid_auto_flow": null,
      "grid_auto_rows": null,
      "grid_column": null,
      "grid_gap": null,
      "grid_row": null,
      "grid_template_areas": null,
      "grid_template_columns": null,
      "grid_template_rows": null,
      "height": null,
      "justify_content": null,
      "justify_items": null,
      "left": null,
      "margin": null,
      "max_height": null,
      "max_width": null,
      "min_height": null,
      "min_width": null,
      "object_fit": null,
      "object_position": null,
      "order": null,
      "overflow": null,
      "overflow_x": null,
      "overflow_y": null,
      "padding": null,
      "right": null,
      "top": null,
      "visibility": null,
      "width": null
     }
    },
    "0ce276f00b88459a95a733f90ef1308e": {
     "model_module": "@jupyter-widgets/base",
     "model_module_version": "1.2.0",
     "model_name": "LayoutModel",
     "state": {
      "_model_module": "@jupyter-widgets/base",
      "_model_module_version": "1.2.0",
      "_model_name": "LayoutModel",
      "_view_count": null,
      "_view_module": "@jupyter-widgets/base",
      "_view_module_version": "1.2.0",
      "_view_name": "LayoutView",
      "align_content": null,
      "align_items": null,
      "align_self": null,
      "border": null,
      "bottom": null,
      "display": null,
      "flex": null,
      "flex_flow": null,
      "grid_area": null,
      "grid_auto_columns": null,
      "grid_auto_flow": null,
      "grid_auto_rows": null,
      "grid_column": null,
      "grid_gap": null,
      "grid_row": null,
      "grid_template_areas": null,
      "grid_template_columns": null,
      "grid_template_rows": null,
      "height": null,
      "justify_content": null,
      "justify_items": null,
      "left": null,
      "margin": null,
      "max_height": null,
      "max_width": null,
      "min_height": null,
      "min_width": null,
      "object_fit": null,
      "object_position": null,
      "order": null,
      "overflow": null,
      "overflow_x": null,
      "overflow_y": null,
      "padding": null,
      "right": null,
      "top": null,
      "visibility": null,
      "width": null
     }
    },
    "0d757fb315dd480aaac4addcc9b51a2c": {
     "model_module": "@jupyter-widgets/controls",
     "model_module_version": "1.5.0",
     "model_name": "FloatProgressModel",
     "state": {
      "_dom_classes": [],
      "_model_module": "@jupyter-widgets/controls",
      "_model_module_version": "1.5.0",
      "_model_name": "FloatProgressModel",
      "_view_count": null,
      "_view_module": "@jupyter-widgets/controls",
      "_view_module_version": "1.5.0",
      "_view_name": "ProgressView",
      "bar_style": "success",
      "description": "",
      "description_tooltip": null,
      "layout": "IPY_MODEL_e785fadf604e494bb63048ec70d90336",
      "max": 1,
      "min": 0,
      "orientation": "horizontal",
      "style": "IPY_MODEL_271cf6d15a41405eb37b1964039b96e9",
      "value": 1
     }
    },
    "1ca0883e48074cc59ebf15fee776f827": {
     "model_module": "@jupyter-widgets/base",
     "model_module_version": "1.2.0",
     "model_name": "LayoutModel",
     "state": {
      "_model_module": "@jupyter-widgets/base",
      "_model_module_version": "1.2.0",
      "_model_name": "LayoutModel",
      "_view_count": null,
      "_view_module": "@jupyter-widgets/base",
      "_view_module_version": "1.2.0",
      "_view_name": "LayoutView",
      "align_content": null,
      "align_items": null,
      "align_self": null,
      "border": null,
      "bottom": null,
      "display": null,
      "flex": null,
      "flex_flow": null,
      "grid_area": null,
      "grid_auto_columns": null,
      "grid_auto_flow": null,
      "grid_auto_rows": null,
      "grid_column": null,
      "grid_gap": null,
      "grid_row": null,
      "grid_template_areas": null,
      "grid_template_columns": null,
      "grid_template_rows": null,
      "height": null,
      "justify_content": null,
      "justify_items": null,
      "left": null,
      "margin": null,
      "max_height": null,
      "max_width": null,
      "min_height": null,
      "min_width": null,
      "object_fit": null,
      "object_position": null,
      "order": null,
      "overflow": null,
      "overflow_x": null,
      "overflow_y": null,
      "padding": null,
      "right": null,
      "top": null,
      "visibility": null,
      "width": null
     }
    },
    "1d3c966914fe43448de47df6fcdea4f7": {
     "model_module": "@jupyter-widgets/base",
     "model_module_version": "1.2.0",
     "model_name": "LayoutModel",
     "state": {
      "_model_module": "@jupyter-widgets/base",
      "_model_module_version": "1.2.0",
      "_model_name": "LayoutModel",
      "_view_count": null,
      "_view_module": "@jupyter-widgets/base",
      "_view_module_version": "1.2.0",
      "_view_name": "LayoutView",
      "align_content": null,
      "align_items": null,
      "align_self": null,
      "border": null,
      "bottom": null,
      "display": null,
      "flex": null,
      "flex_flow": null,
      "grid_area": null,
      "grid_auto_columns": null,
      "grid_auto_flow": null,
      "grid_auto_rows": null,
      "grid_column": null,
      "grid_gap": null,
      "grid_row": null,
      "grid_template_areas": null,
      "grid_template_columns": null,
      "grid_template_rows": null,
      "height": null,
      "justify_content": null,
      "justify_items": null,
      "left": null,
      "margin": null,
      "max_height": null,
      "max_width": null,
      "min_height": null,
      "min_width": null,
      "object_fit": null,
      "object_position": null,
      "order": null,
      "overflow": null,
      "overflow_x": null,
      "overflow_y": null,
      "padding": null,
      "right": null,
      "top": null,
      "visibility": null,
      "width": null
     }
    },
    "22e3430bde454be1bc3c4c7b885b6edf": {
     "model_module": "@jupyter-widgets/controls",
     "model_module_version": "1.5.0",
     "model_name": "HBoxModel",
     "state": {
      "_dom_classes": [],
      "_model_module": "@jupyter-widgets/controls",
      "_model_module_version": "1.5.0",
      "_model_name": "HBoxModel",
      "_view_count": null,
      "_view_module": "@jupyter-widgets/controls",
      "_view_module_version": "1.5.0",
      "_view_name": "HBoxView",
      "box_style": "",
      "children": [
       "IPY_MODEL_4457bb336cb24f15a2b1dc5133b65aa1",
       "IPY_MODEL_9a7aaa24e1774cd7a21c019e304954bc",
       "IPY_MODEL_eaeec3dd51094966b191aaba04e2175b"
      ],
      "layout": "IPY_MODEL_63b7b69cb4544278a77ef3893a9d3b66"
     }
    },
    "24923bc4016d4818949bf03682d2f6ed": {
     "model_module": "@jupyter-widgets/controls",
     "model_module_version": "1.5.0",
     "model_name": "ProgressStyleModel",
     "state": {
      "_model_module": "@jupyter-widgets/controls",
      "_model_module_version": "1.5.0",
      "_model_name": "ProgressStyleModel",
      "_view_count": null,
      "_view_module": "@jupyter-widgets/base",
      "_view_module_version": "1.2.0",
      "_view_name": "StyleView",
      "bar_color": null,
      "description_width": ""
     }
    },
    "271cf6d15a41405eb37b1964039b96e9": {
     "model_module": "@jupyter-widgets/controls",
     "model_module_version": "1.5.0",
     "model_name": "ProgressStyleModel",
     "state": {
      "_model_module": "@jupyter-widgets/controls",
      "_model_module_version": "1.5.0",
      "_model_name": "ProgressStyleModel",
      "_view_count": null,
      "_view_module": "@jupyter-widgets/base",
      "_view_module_version": "1.2.0",
      "_view_name": "StyleView",
      "bar_color": null,
      "description_width": ""
     }
    },
    "2f5b7ee670cf4c15a05eecc752a19b5a": {
     "model_module": "@jupyter-widgets/base",
     "model_module_version": "1.2.0",
     "model_name": "LayoutModel",
     "state": {
      "_model_module": "@jupyter-widgets/base",
      "_model_module_version": "1.2.0",
      "_model_name": "LayoutModel",
      "_view_count": null,
      "_view_module": "@jupyter-widgets/base",
      "_view_module_version": "1.2.0",
      "_view_name": "LayoutView",
      "align_content": null,
      "align_items": null,
      "align_self": null,
      "border": null,
      "bottom": null,
      "display": null,
      "flex": null,
      "flex_flow": null,
      "grid_area": null,
      "grid_auto_columns": null,
      "grid_auto_flow": null,
      "grid_auto_rows": null,
      "grid_column": null,
      "grid_gap": null,
      "grid_row": null,
      "grid_template_areas": null,
      "grid_template_columns": null,
      "grid_template_rows": null,
      "height": null,
      "justify_content": null,
      "justify_items": null,
      "left": null,
      "margin": null,
      "max_height": null,
      "max_width": null,
      "min_height": null,
      "min_width": null,
      "object_fit": null,
      "object_position": null,
      "order": null,
      "overflow": null,
      "overflow_x": null,
      "overflow_y": null,
      "padding": null,
      "right": null,
      "top": null,
      "visibility": null,
      "width": null
     }
    },
    "3118154f5de64e94b988e7aac6d61c90": {
     "model_module": "@jupyter-widgets/controls",
     "model_module_version": "1.5.0",
     "model_name": "HTMLModel",
     "state": {
      "_dom_classes": [],
      "_model_module": "@jupyter-widgets/controls",
      "_model_module_version": "1.5.0",
      "_model_name": "HTMLModel",
      "_view_count": null,
      "_view_module": "@jupyter-widgets/controls",
      "_view_module_version": "1.5.0",
      "_view_name": "HTMLView",
      "description": "",
      "description_tooltip": null,
      "layout": "IPY_MODEL_ee61763173a5405ba655b0a05f2fc9f4",
      "placeholder": "​",
      "style": "IPY_MODEL_6ca27bda5b244f81b497c3f8ea6634aa",
      "value": " 9993/0 [00:06&lt;00:00, 2065.70 examples/s]"
     }
    },
    "3565c65b81564254b261d43abc76ff4b": {
     "model_module": "@jupyter-widgets/controls",
     "model_module_version": "1.5.0",
     "model_name": "HBoxModel",
     "state": {
      "_dom_classes": [],
      "_model_module": "@jupyter-widgets/controls",
      "_model_module_version": "1.5.0",
      "_model_name": "HBoxModel",
      "_view_count": null,
      "_view_module": "@jupyter-widgets/controls",
      "_view_module_version": "1.5.0",
      "_view_name": "HBoxView",
      "box_style": "",
      "children": [
       "IPY_MODEL_da71edea399845da92943d9a6f15d1a9",
       "IPY_MODEL_3751b83344f64c58b0163af51289bd3a",
       "IPY_MODEL_b969dd0c551f4bcb826ad5eb3ca94163"
      ],
      "layout": "IPY_MODEL_c8d8ded24ce54533a76775f380b60f8b"
     }
    },
    "3751b83344f64c58b0163af51289bd3a": {
     "model_module": "@jupyter-widgets/controls",
     "model_module_version": "1.5.0",
     "model_name": "FloatProgressModel",
     "state": {
      "_dom_classes": [],
      "_model_module": "@jupyter-widgets/controls",
      "_model_module_version": "1.5.0",
      "_model_name": "FloatProgressModel",
      "_view_count": null,
      "_view_module": "@jupyter-widgets/controls",
      "_view_module_version": "1.5.0",
      "_view_name": "ProgressView",
      "bar_style": "success",
      "description": "",
      "description_tooltip": null,
      "layout": "IPY_MODEL_68ea0a6ec349413caf484963a6ff83ae",
      "max": 54528,
      "min": 0,
      "orientation": "horizontal",
      "style": "IPY_MODEL_e0b1b5fe75a94627b7e808ce5d183363",
      "value": 54528
     }
    },
    "4457bb336cb24f15a2b1dc5133b65aa1": {
     "model_module": "@jupyter-widgets/controls",
     "model_module_version": "1.5.0",
     "model_name": "HTMLModel",
     "state": {
      "_dom_classes": [],
      "_model_module": "@jupyter-widgets/controls",
      "_model_module_version": "1.5.0",
      "_model_name": "HTMLModel",
      "_view_count": null,
      "_view_module": "@jupyter-widgets/controls",
      "_view_module_version": "1.5.0",
      "_view_name": "HTMLView",
      "description": "",
      "description_tooltip": null,
      "layout": "IPY_MODEL_e1fcdf1903ad40d8aadb3a5fd27e4a08",
      "placeholder": "​",
      "style": "IPY_MODEL_cebc7ccd9f4848989405e3c1cb0e26fc",
      "value": "tokenizer.json: 100%"
     }
    },
    "47c42d100c41406b8ac2f986c3a147e8": {
     "model_module": "@jupyter-widgets/controls",
     "model_module_version": "1.5.0",
     "model_name": "DescriptionStyleModel",
     "state": {
      "_model_module": "@jupyter-widgets/controls",
      "_model_module_version": "1.5.0",
      "_model_name": "DescriptionStyleModel",
      "_view_count": null,
      "_view_module": "@jupyter-widgets/base",
      "_view_module_version": "1.2.0",
      "_view_name": "StyleView",
      "description_width": ""
     }
    },
    "4bcf5e56e08a4c09ae547eb2b3ad37c2": {
     "model_module": "@jupyter-widgets/base",
     "model_module_version": "1.2.0",
     "model_name": "LayoutModel",
     "state": {
      "_model_module": "@jupyter-widgets/base",
      "_model_module_version": "1.2.0",
      "_model_name": "LayoutModel",
      "_view_count": null,
      "_view_module": "@jupyter-widgets/base",
      "_view_module_version": "1.2.0",
      "_view_name": "LayoutView",
      "align_content": null,
      "align_items": null,
      "align_self": null,
      "border": null,
      "bottom": null,
      "display": null,
      "flex": null,
      "flex_flow": null,
      "grid_area": null,
      "grid_auto_columns": null,
      "grid_auto_flow": null,
      "grid_auto_rows": null,
      "grid_column": null,
      "grid_gap": null,
      "grid_row": null,
      "grid_template_areas": null,
      "grid_template_columns": null,
      "grid_template_rows": null,
      "height": null,
      "justify_content": null,
      "justify_items": null,
      "left": null,
      "margin": null,
      "max_height": null,
      "max_width": null,
      "min_height": null,
      "min_width": null,
      "object_fit": null,
      "object_position": null,
      "order": null,
      "overflow": null,
      "overflow_x": null,
      "overflow_y": null,
      "padding": null,
      "right": null,
      "top": null,
      "visibility": null,
      "width": null
     }
    },
    "4c0679b710164d90b61f0cf66e6eec11": {
     "model_module": "@jupyter-widgets/controls",
     "model_module_version": "1.5.0",
     "model_name": "DescriptionStyleModel",
     "state": {
      "_model_module": "@jupyter-widgets/controls",
      "_model_module_version": "1.5.0",
      "_model_name": "DescriptionStyleModel",
      "_view_count": null,
      "_view_module": "@jupyter-widgets/base",
      "_view_module_version": "1.2.0",
      "_view_name": "StyleView",
      "description_width": ""
     }
    },
    "4e100246d5674ed290c5ab09df8bbfb7": {
     "model_module": "@jupyter-widgets/controls",
     "model_module_version": "1.5.0",
     "model_name": "HTMLModel",
     "state": {
      "_dom_classes": [],
      "_model_module": "@jupyter-widgets/controls",
      "_model_module_version": "1.5.0",
      "_model_name": "HTMLModel",
      "_view_count": null,
      "_view_module": "@jupyter-widgets/controls",
      "_view_module_version": "1.5.0",
      "_view_name": "HTMLView",
      "description": "",
      "description_tooltip": null,
      "layout": "IPY_MODEL_b95ae45b9a764ea78a2271485e9b9820",
      "placeholder": "​",
      "style": "IPY_MODEL_d36b6503ec6a4e4fb2d9b95ea1c851e0",
      "value": "model.safetensors: 100%"
     }
    },
    "5b356e224a43476bb8d0636c44a1e299": {
     "model_module": "@jupyter-widgets/controls",
     "model_module_version": "1.5.0",
     "model_name": "HBoxModel",
     "state": {
      "_dom_classes": [],
      "_model_module": "@jupyter-widgets/controls",
      "_model_module_version": "1.5.0",
      "_model_name": "HBoxModel",
      "_view_count": null,
      "_view_module": "@jupyter-widgets/controls",
      "_view_module_version": "1.5.0",
      "_view_name": "HBoxView",
      "box_style": "",
      "children": [
       "IPY_MODEL_74812b5ed79941a6b84a65e892e97652",
       "IPY_MODEL_f9582652278b4c8abaf9abc218505876",
       "IPY_MODEL_8fce3879d04b4b7fabf9fd9497653f08"
      ],
      "layout": "IPY_MODEL_6016fd80b9e14ea48ef44557a04ebeab"
     }
    },
    "5b42127219e24964831fedcf366514a7": {
     "model_module": "@jupyter-widgets/controls",
     "model_module_version": "1.5.0",
     "model_name": "FloatProgressModel",
     "state": {
      "_dom_classes": [],
      "_model_module": "@jupyter-widgets/controls",
      "_model_module_version": "1.5.0",
      "_model_name": "FloatProgressModel",
      "_view_count": null,
      "_view_module": "@jupyter-widgets/controls",
      "_view_module_version": "1.5.0",
      "_view_name": "ProgressView",
      "bar_style": "success",
      "description": "",
      "description_tooltip": null,
      "layout": "IPY_MODEL_6b75a8cace4249ac8b920eeded0e57fa",
      "max": 296,
      "min": 0,
      "orientation": "horizontal",
      "style": "IPY_MODEL_24923bc4016d4818949bf03682d2f6ed",
      "value": 296
     }
    },
    "5d6150bd703a4619a9b9cb822091e50b": {
     "model_module": "@jupyter-widgets/controls",
     "model_module_version": "1.5.0",
     "model_name": "ProgressStyleModel",
     "state": {
      "_model_module": "@jupyter-widgets/controls",
      "_model_module_version": "1.5.0",
      "_model_name": "ProgressStyleModel",
      "_view_count": null,
      "_view_module": "@jupyter-widgets/base",
      "_view_module_version": "1.2.0",
      "_view_name": "StyleView",
      "bar_color": null,
      "description_width": ""
     }
    },
    "6016fd80b9e14ea48ef44557a04ebeab": {
     "model_module": "@jupyter-widgets/base",
     "model_module_version": "1.2.0",
     "model_name": "LayoutModel",
     "state": {
      "_model_module": "@jupyter-widgets/base",
      "_model_module_version": "1.2.0",
      "_model_name": "LayoutModel",
      "_view_count": null,
      "_view_module": "@jupyter-widgets/base",
      "_view_module_version": "1.2.0",
      "_view_name": "LayoutView",
      "align_content": null,
      "align_items": null,
      "align_self": null,
      "border": null,
      "bottom": null,
      "display": null,
      "flex": null,
      "flex_flow": null,
      "grid_area": null,
      "grid_auto_columns": null,
      "grid_auto_flow": null,
      "grid_auto_rows": null,
      "grid_column": null,
      "grid_gap": null,
      "grid_row": null,
      "grid_template_areas": null,
      "grid_template_columns": null,
      "grid_template_rows": null,
      "height": null,
      "justify_content": null,
      "justify_items": null,
      "left": null,
      "margin": null,
      "max_height": null,
      "max_width": null,
      "min_height": null,
      "min_width": null,
      "object_fit": null,
      "object_position": null,
      "order": null,
      "overflow": null,
      "overflow_x": null,
      "overflow_y": null,
      "padding": null,
      "right": null,
      "top": null,
      "visibility": null,
      "width": null
     }
    },
    "63b7b69cb4544278a77ef3893a9d3b66": {
     "model_module": "@jupyter-widgets/base",
     "model_module_version": "1.2.0",
     "model_name": "LayoutModel",
     "state": {
      "_model_module": "@jupyter-widgets/base",
      "_model_module_version": "1.2.0",
      "_model_name": "LayoutModel",
      "_view_count": null,
      "_view_module": "@jupyter-widgets/base",
      "_view_module_version": "1.2.0",
      "_view_name": "LayoutView",
      "align_content": null,
      "align_items": null,
      "align_self": null,
      "border": null,
      "bottom": null,
      "display": null,
      "flex": null,
      "flex_flow": null,
      "grid_area": null,
      "grid_auto_columns": null,
      "grid_auto_flow": null,
      "grid_auto_rows": null,
      "grid_column": null,
      "grid_gap": null,
      "grid_row": null,
      "grid_template_areas": null,
      "grid_template_columns": null,
      "grid_template_rows": null,
      "height": null,
      "justify_content": null,
      "justify_items": null,
      "left": null,
      "margin": null,
      "max_height": null,
      "max_width": null,
      "min_height": null,
      "min_width": null,
      "object_fit": null,
      "object_position": null,
      "order": null,
      "overflow": null,
      "overflow_x": null,
      "overflow_y": null,
      "padding": null,
      "right": null,
      "top": null,
      "visibility": null,
      "width": null
     }
    },
    "6448693f203546159bfbf95eb3e73165": {
     "model_module": "@jupyter-widgets/controls",
     "model_module_version": "1.5.0",
     "model_name": "DescriptionStyleModel",
     "state": {
      "_model_module": "@jupyter-widgets/controls",
      "_model_module_version": "1.5.0",
      "_model_name": "DescriptionStyleModel",
      "_view_count": null,
      "_view_module": "@jupyter-widgets/base",
      "_view_module_version": "1.2.0",
      "_view_name": "StyleView",
      "description_width": ""
     }
    },
    "66f208eeb5954801af59efc7bdcd9dc7": {
     "model_module": "@jupyter-widgets/base",
     "model_module_version": "1.2.0",
     "model_name": "LayoutModel",
     "state": {
      "_model_module": "@jupyter-widgets/base",
      "_model_module_version": "1.2.0",
      "_model_name": "LayoutModel",
      "_view_count": null,
      "_view_module": "@jupyter-widgets/base",
      "_view_module_version": "1.2.0",
      "_view_name": "LayoutView",
      "align_content": null,
      "align_items": null,
      "align_self": null,
      "border": null,
      "bottom": null,
      "display": null,
      "flex": null,
      "flex_flow": null,
      "grid_area": null,
      "grid_auto_columns": null,
      "grid_auto_flow": null,
      "grid_auto_rows": null,
      "grid_column": null,
      "grid_gap": null,
      "grid_row": null,
      "grid_template_areas": null,
      "grid_template_columns": null,
      "grid_template_rows": null,
      "height": null,
      "justify_content": null,
      "justify_items": null,
      "left": null,
      "margin": null,
      "max_height": null,
      "max_width": null,
      "min_height": null,
      "min_width": null,
      "object_fit": null,
      "object_position": null,
      "order": null,
      "overflow": null,
      "overflow_x": null,
      "overflow_y": null,
      "padding": null,
      "right": null,
      "top": null,
      "visibility": null,
      "width": null
     }
    },
    "68ea0a6ec349413caf484963a6ff83ae": {
     "model_module": "@jupyter-widgets/base",
     "model_module_version": "1.2.0",
     "model_name": "LayoutModel",
     "state": {
      "_model_module": "@jupyter-widgets/base",
      "_model_module_version": "1.2.0",
      "_model_name": "LayoutModel",
      "_view_count": null,
      "_view_module": "@jupyter-widgets/base",
      "_view_module_version": "1.2.0",
      "_view_name": "LayoutView",
      "align_content": null,
      "align_items": null,
      "align_self": null,
      "border": null,
      "bottom": null,
      "display": null,
      "flex": null,
      "flex_flow": null,
      "grid_area": null,
      "grid_auto_columns": null,
      "grid_auto_flow": null,
      "grid_auto_rows": null,
      "grid_column": null,
      "grid_gap": null,
      "grid_row": null,
      "grid_template_areas": null,
      "grid_template_columns": null,
      "grid_template_rows": null,
      "height": null,
      "justify_content": null,
      "justify_items": null,
      "left": null,
      "margin": null,
      "max_height": null,
      "max_width": null,
      "min_height": null,
      "min_width": null,
      "object_fit": null,
      "object_position": null,
      "order": null,
      "overflow": null,
      "overflow_x": null,
      "overflow_y": null,
      "padding": null,
      "right": null,
      "top": null,
      "visibility": null,
      "width": null
     }
    },
    "6b75a8cace4249ac8b920eeded0e57fa": {
     "model_module": "@jupyter-widgets/base",
     "model_module_version": "1.2.0",
     "model_name": "LayoutModel",
     "state": {
      "_model_module": "@jupyter-widgets/base",
      "_model_module_version": "1.2.0",
      "_model_name": "LayoutModel",
      "_view_count": null,
      "_view_module": "@jupyter-widgets/base",
      "_view_module_version": "1.2.0",
      "_view_name": "LayoutView",
      "align_content": null,
      "align_items": null,
      "align_self": null,
      "border": null,
      "bottom": null,
      "display": null,
      "flex": null,
      "flex_flow": null,
      "grid_area": null,
      "grid_auto_columns": null,
      "grid_auto_flow": null,
      "grid_auto_rows": null,
      "grid_column": null,
      "grid_gap": null,
      "grid_row": null,
      "grid_template_areas": null,
      "grid_template_columns": null,
      "grid_template_rows": null,
      "height": null,
      "justify_content": null,
      "justify_items": null,
      "left": null,
      "margin": null,
      "max_height": null,
      "max_width": null,
      "min_height": null,
      "min_width": null,
      "object_fit": null,
      "object_position": null,
      "order": null,
      "overflow": null,
      "overflow_x": null,
      "overflow_y": null,
      "padding": null,
      "right": null,
      "top": null,
      "visibility": null,
      "width": null
     }
    },
    "6ca27bda5b244f81b497c3f8ea6634aa": {
     "model_module": "@jupyter-widgets/controls",
     "model_module_version": "1.5.0",
     "model_name": "DescriptionStyleModel",
     "state": {
      "_model_module": "@jupyter-widgets/controls",
      "_model_module_version": "1.5.0",
      "_model_name": "DescriptionStyleModel",
      "_view_count": null,
      "_view_module": "@jupyter-widgets/base",
      "_view_module_version": "1.2.0",
      "_view_name": "StyleView",
      "description_width": ""
     }
    },
    "74812b5ed79941a6b84a65e892e97652": {
     "model_module": "@jupyter-widgets/controls",
     "model_module_version": "1.5.0",
     "model_name": "HTMLModel",
     "state": {
      "_dom_classes": [],
      "_model_module": "@jupyter-widgets/controls",
      "_model_module_version": "1.5.0",
      "_model_name": "HTMLModel",
      "_view_count": null,
      "_view_module": "@jupyter-widgets/controls",
      "_view_module_version": "1.5.0",
      "_view_name": "HTMLView",
      "description": "",
      "description_tooltip": null,
      "layout": "IPY_MODEL_a14db60f3c31438d8101b6d2d50a7bf5",
      "placeholder": "​",
      "style": "IPY_MODEL_d52f04f421ba445a8edac7ef4b328a54",
      "value": "generation_config.json: 100%"
     }
    },
    "74d28670b77f4b869246ced913e9c206": {
     "model_module": "@jupyter-widgets/controls",
     "model_module_version": "1.5.0",
     "model_name": "DescriptionStyleModel",
     "state": {
      "_model_module": "@jupyter-widgets/controls",
      "_model_module_version": "1.5.0",
      "_model_name": "DescriptionStyleModel",
      "_view_count": null,
      "_view_module": "@jupyter-widgets/base",
      "_view_module_version": "1.2.0",
      "_view_name": "StyleView",
      "description_width": ""
     }
    },
    "8032d4117ee0421597f5dbe9fe7ae49f": {
     "model_module": "@jupyter-widgets/controls",
     "model_module_version": "1.5.0",
     "model_name": "HTMLModel",
     "state": {
      "_dom_classes": [],
      "_model_module": "@jupyter-widgets/controls",
      "_model_module_version": "1.5.0",
      "_model_name": "HTMLModel",
      "_view_count": null,
      "_view_module": "@jupyter-widgets/controls",
      "_view_module_version": "1.5.0",
      "_view_name": "HTMLView",
      "description": "",
      "description_tooltip": null,
      "layout": "IPY_MODEL_1ca0883e48074cc59ebf15fee776f827",
      "placeholder": "​",
      "style": "IPY_MODEL_6448693f203546159bfbf95eb3e73165",
      "value": " 296/296 [00:00&lt;00:00, 40.1kB/s]"
     }
    },
    "822ccd206fd14d418efd317d8c1665a8": {
     "model_module": "@jupyter-widgets/controls",
     "model_module_version": "1.5.0",
     "model_name": "FloatProgressModel",
     "state": {
      "_dom_classes": [],
      "_model_module": "@jupyter-widgets/controls",
      "_model_module_version": "1.5.0",
      "_model_name": "FloatProgressModel",
      "_view_count": null,
      "_view_module": "@jupyter-widgets/controls",
      "_view_module_version": "1.5.0",
      "_view_name": "ProgressView",
      "bar_style": "success",
      "description": "",
      "description_tooltip": null,
      "layout": "IPY_MODEL_f27743312f664dae8cc99a674963622c",
      "max": 2471645608,
      "min": 0,
      "orientation": "horizontal",
      "style": "IPY_MODEL_e974f1a9d8d34f809acc6679ed4f534e",
      "value": 2471645608
     }
    },
    "85c024eedae74b129f70ec0eec4ff8a9": {
     "model_module": "@jupyter-widgets/controls",
     "model_module_version": "1.5.0",
     "model_name": "ProgressStyleModel",
     "state": {
      "_model_module": "@jupyter-widgets/controls",
      "_model_module_version": "1.5.0",
      "_model_name": "ProgressStyleModel",
      "_view_count": null,
      "_view_module": "@jupyter-widgets/base",
      "_view_module_version": "1.2.0",
      "_view_name": "StyleView",
      "bar_color": null,
      "description_width": ""
     }
    },
    "8867aa6e13914dbca4f1d027af85b52d": {
     "model_module": "@jupyter-widgets/controls",
     "model_module_version": "1.5.0",
     "model_name": "DescriptionStyleModel",
     "state": {
      "_model_module": "@jupyter-widgets/controls",
      "_model_module_version": "1.5.0",
      "_model_name": "DescriptionStyleModel",
      "_view_count": null,
      "_view_module": "@jupyter-widgets/base",
      "_view_module_version": "1.2.0",
      "_view_name": "StyleView",
      "description_width": ""
     }
    },
    "88c6ac14bc3847f58854e7a86b1f3842": {
     "model_module": "@jupyter-widgets/base",
     "model_module_version": "1.2.0",
     "model_name": "LayoutModel",
     "state": {
      "_model_module": "@jupyter-widgets/base",
      "_model_module_version": "1.2.0",
      "_model_name": "LayoutModel",
      "_view_count": null,
      "_view_module": "@jupyter-widgets/base",
      "_view_module_version": "1.2.0",
      "_view_name": "LayoutView",
      "align_content": null,
      "align_items": null,
      "align_self": null,
      "border": null,
      "bottom": null,
      "display": null,
      "flex": null,
      "flex_flow": null,
      "grid_area": null,
      "grid_auto_columns": null,
      "grid_auto_flow": null,
      "grid_auto_rows": null,
      "grid_column": null,
      "grid_gap": null,
      "grid_row": null,
      "grid_template_areas": null,
      "grid_template_columns": null,
      "grid_template_rows": null,
      "height": null,
      "justify_content": null,
      "justify_items": null,
      "left": null,
      "margin": null,
      "max_height": null,
      "max_width": null,
      "min_height": null,
      "min_width": null,
      "object_fit": null,
      "object_position": null,
      "order": null,
      "overflow": null,
      "overflow_x": null,
      "overflow_y": null,
      "padding": null,
      "right": null,
      "top": null,
      "visibility": null,
      "width": null
     }
    },
    "8fce3879d04b4b7fabf9fd9497653f08": {
     "model_module": "@jupyter-widgets/controls",
     "model_module_version": "1.5.0",
     "model_name": "HTMLModel",
     "state": {
      "_dom_classes": [],
      "_model_module": "@jupyter-widgets/controls",
      "_model_module_version": "1.5.0",
      "_model_name": "HTMLModel",
      "_view_count": null,
      "_view_module": "@jupyter-widgets/controls",
      "_view_module_version": "1.5.0",
      "_view_name": "HTMLView",
      "description": "",
      "description_tooltip": null,
      "layout": "IPY_MODEL_4bcf5e56e08a4c09ae547eb2b3ad37c2",
      "placeholder": "​",
      "style": "IPY_MODEL_74d28670b77f4b869246ced913e9c206",
      "value": " 189/189 [00:00&lt;00:00, 20.2kB/s]"
     }
    },
    "9a7aaa24e1774cd7a21c019e304954bc": {
     "model_module": "@jupyter-widgets/controls",
     "model_module_version": "1.5.0",
     "model_name": "FloatProgressModel",
     "state": {
      "_dom_classes": [],
      "_model_module": "@jupyter-widgets/controls",
      "_model_module_version": "1.5.0",
      "_model_name": "FloatProgressModel",
      "_view_count": null,
      "_view_module": "@jupyter-widgets/controls",
      "_view_module_version": "1.5.0",
      "_view_name": "ProgressView",
      "bar_style": "success",
      "description": "",
      "description_tooltip": null,
      "layout": "IPY_MODEL_aea475311483475f938682c21c648b13",
      "max": 9085657,
      "min": 0,
      "orientation": "horizontal",
      "style": "IPY_MODEL_85c024eedae74b129f70ec0eec4ff8a9",
      "value": 9085657
     }
    },
    "9b33cfb732df4660ba2f6adfb571c7dc": {
     "model_module": "@jupyter-widgets/base",
     "model_module_version": "1.2.0",
     "model_name": "LayoutModel",
     "state": {
      "_model_module": "@jupyter-widgets/base",
      "_model_module_version": "1.2.0",
      "_model_name": "LayoutModel",
      "_view_count": null,
      "_view_module": "@jupyter-widgets/base",
      "_view_module_version": "1.2.0",
      "_view_name": "LayoutView",
      "align_content": null,
      "align_items": null,
      "align_self": null,
      "border": null,
      "bottom": null,
      "display": null,
      "flex": null,
      "flex_flow": null,
      "grid_area": null,
      "grid_auto_columns": null,
      "grid_auto_flow": null,
      "grid_auto_rows": null,
      "grid_column": null,
      "grid_gap": null,
      "grid_row": null,
      "grid_template_areas": null,
      "grid_template_columns": null,
      "grid_template_rows": null,
      "height": null,
      "justify_content": null,
      "justify_items": null,
      "left": null,
      "margin": null,
      "max_height": null,
      "max_width": null,
      "min_height": null,
      "min_width": null,
      "object_fit": null,
      "object_position": null,
      "order": null,
      "overflow": null,
      "overflow_x": null,
      "overflow_y": null,
      "padding": null,
      "right": null,
      "top": null,
      "visibility": null,
      "width": null
     }
    },
    "9dc9cb3dadb24cf5bd8d4f61835adc27": {
     "model_module": "@jupyter-widgets/controls",
     "model_module_version": "1.5.0",
     "model_name": "HBoxModel",
     "state": {
      "_dom_classes": [],
      "_model_module": "@jupyter-widgets/controls",
      "_model_module_version": "1.5.0",
      "_model_name": "HBoxModel",
      "_view_count": null,
      "_view_module": "@jupyter-widgets/controls",
      "_view_module_version": "1.5.0",
      "_view_name": "HBoxView",
      "box_style": "",
      "children": [
       "IPY_MODEL_4e100246d5674ed290c5ab09df8bbfb7",
       "IPY_MODEL_822ccd206fd14d418efd317d8c1665a8",
       "IPY_MODEL_b73645f26b864edeaf1bcf5a1a305b47"
      ],
      "layout": "IPY_MODEL_9b33cfb732df4660ba2f6adfb571c7dc"
     }
    },
    "a14db60f3c31438d8101b6d2d50a7bf5": {
     "model_module": "@jupyter-widgets/base",
     "model_module_version": "1.2.0",
     "model_name": "LayoutModel",
     "state": {
      "_model_module": "@jupyter-widgets/base",
      "_model_module_version": "1.2.0",
      "_model_name": "LayoutModel",
      "_view_count": null,
      "_view_module": "@jupyter-widgets/base",
      "_view_module_version": "1.2.0",
      "_view_name": "LayoutView",
      "align_content": null,
      "align_items": null,
      "align_self": null,
      "border": null,
      "bottom": null,
      "display": null,
      "flex": null,
      "flex_flow": null,
      "grid_area": null,
      "grid_auto_columns": null,
      "grid_auto_flow": null,
      "grid_auto_rows": null,
      "grid_column": null,
      "grid_gap": null,
      "grid_row": null,
      "grid_template_areas": null,
      "grid_template_columns": null,
      "grid_template_rows": null,
      "height": null,
      "justify_content": null,
      "justify_items": null,
      "left": null,
      "margin": null,
      "max_height": null,
      "max_width": null,
      "min_height": null,
      "min_width": null,
      "object_fit": null,
      "object_position": null,
      "order": null,
      "overflow": null,
      "overflow_x": null,
      "overflow_y": null,
      "padding": null,
      "right": null,
      "top": null,
      "visibility": null,
      "width": null
     }
    },
    "a17d5439516349c586275d2606d45321": {
     "model_module": "@jupyter-widgets/controls",
     "model_module_version": "1.5.0",
     "model_name": "DescriptionStyleModel",
     "state": {
      "_model_module": "@jupyter-widgets/controls",
      "_model_module_version": "1.5.0",
      "_model_name": "DescriptionStyleModel",
      "_view_count": null,
      "_view_module": "@jupyter-widgets/base",
      "_view_module_version": "1.2.0",
      "_view_name": "StyleView",
      "description_width": ""
     }
    },
    "a43662ffd4544df3be120255b06eb777": {
     "model_module": "@jupyter-widgets/controls",
     "model_module_version": "1.5.0",
     "model_name": "DescriptionStyleModel",
     "state": {
      "_model_module": "@jupyter-widgets/controls",
      "_model_module_version": "1.5.0",
      "_model_name": "DescriptionStyleModel",
      "_view_count": null,
      "_view_module": "@jupyter-widgets/base",
      "_view_module_version": "1.2.0",
      "_view_name": "StyleView",
      "description_width": ""
     }
    },
    "a6602178b0fe42ceb9276b1113340640": {
     "model_module": "@jupyter-widgets/controls",
     "model_module_version": "1.5.0",
     "model_name": "ProgressStyleModel",
     "state": {
      "_model_module": "@jupyter-widgets/controls",
      "_model_module_version": "1.5.0",
      "_model_name": "ProgressStyleModel",
      "_view_count": null,
      "_view_module": "@jupyter-widgets/base",
      "_view_module_version": "1.2.0",
      "_view_name": "StyleView",
      "bar_color": null,
      "description_width": ""
     }
    },
    "a87013b707b7426d8e8fdae71ce1d9e6": {
     "model_module": "@jupyter-widgets/controls",
     "model_module_version": "1.5.0",
     "model_name": "FloatProgressModel",
     "state": {
      "_dom_classes": [],
      "_model_module": "@jupyter-widgets/controls",
      "_model_module_version": "1.5.0",
      "_model_name": "FloatProgressModel",
      "_view_count": null,
      "_view_module": "@jupyter-widgets/controls",
      "_view_module_version": "1.5.0",
      "_view_name": "ProgressView",
      "bar_style": "success",
      "description": "",
      "description_tooltip": null,
      "layout": "IPY_MODEL_66f208eeb5954801af59efc7bdcd9dc7",
      "max": 877,
      "min": 0,
      "orientation": "horizontal",
      "style": "IPY_MODEL_5d6150bd703a4619a9b9cb822091e50b",
      "value": 877
     }
    },
    "aea475311483475f938682c21c648b13": {
     "model_module": "@jupyter-widgets/base",
     "model_module_version": "1.2.0",
     "model_name": "LayoutModel",
     "state": {
      "_model_module": "@jupyter-widgets/base",
      "_model_module_version": "1.2.0",
      "_model_name": "LayoutModel",
      "_view_count": null,
      "_view_module": "@jupyter-widgets/base",
      "_view_module_version": "1.2.0",
      "_view_name": "LayoutView",
      "align_content": null,
      "align_items": null,
      "align_self": null,
      "border": null,
      "bottom": null,
      "display": null,
      "flex": null,
      "flex_flow": null,
      "grid_area": null,
      "grid_auto_columns": null,
      "grid_auto_flow": null,
      "grid_auto_rows": null,
      "grid_column": null,
      "grid_gap": null,
      "grid_row": null,
      "grid_template_areas": null,
      "grid_template_columns": null,
      "grid_template_rows": null,
      "height": null,
      "justify_content": null,
      "justify_items": null,
      "left": null,
      "margin": null,
      "max_height": null,
      "max_width": null,
      "min_height": null,
      "min_width": null,
      "object_fit": null,
      "object_position": null,
      "order": null,
      "overflow": null,
      "overflow_x": null,
      "overflow_y": null,
      "padding": null,
      "right": null,
      "top": null,
      "visibility": null,
      "width": null
     }
    },
    "b73645f26b864edeaf1bcf5a1a305b47": {
     "model_module": "@jupyter-widgets/controls",
     "model_module_version": "1.5.0",
     "model_name": "HTMLModel",
     "state": {
      "_dom_classes": [],
      "_model_module": "@jupyter-widgets/controls",
      "_model_module_version": "1.5.0",
      "_model_name": "HTMLModel",
      "_view_count": null,
      "_view_module": "@jupyter-widgets/controls",
      "_view_module_version": "1.5.0",
      "_view_name": "HTMLView",
      "description": "",
      "description_tooltip": null,
      "layout": "IPY_MODEL_0ce276f00b88459a95a733f90ef1308e",
      "placeholder": "​",
      "style": "IPY_MODEL_c29c37090ac94e9ca1d40ba407b7a804",
      "value": " 2.47G/2.47G [00:13&lt;00:00, 80.5MB/s]"
     }
    },
    "b7aa5337dccd4ebcbaeeac11e145a0a8": {
     "model_module": "@jupyter-widgets/controls",
     "model_module_version": "1.5.0",
     "model_name": "HTMLModel",
     "state": {
      "_dom_classes": [],
      "_model_module": "@jupyter-widgets/controls",
      "_model_module_version": "1.5.0",
      "_model_name": "HTMLModel",
      "_view_count": null,
      "_view_module": "@jupyter-widgets/controls",
      "_view_module_version": "1.5.0",
      "_view_name": "HTMLView",
      "description": "",
      "description_tooltip": null,
      "layout": "IPY_MODEL_2f5b7ee670cf4c15a05eecc752a19b5a",
      "placeholder": "​",
      "style": "IPY_MODEL_a17d5439516349c586275d2606d45321",
      "value": " 877/877 [00:00&lt;00:00, 116kB/s]"
     }
    },
    "b95ae45b9a764ea78a2271485e9b9820": {
     "model_module": "@jupyter-widgets/base",
     "model_module_version": "1.2.0",
     "model_name": "LayoutModel",
     "state": {
      "_model_module": "@jupyter-widgets/base",
      "_model_module_version": "1.2.0",
      "_model_name": "LayoutModel",
      "_view_count": null,
      "_view_module": "@jupyter-widgets/base",
      "_view_module_version": "1.2.0",
      "_view_name": "LayoutView",
      "align_content": null,
      "align_items": null,
      "align_self": null,
      "border": null,
      "bottom": null,
      "display": null,
      "flex": null,
      "flex_flow": null,
      "grid_area": null,
      "grid_auto_columns": null,
      "grid_auto_flow": null,
      "grid_auto_rows": null,
      "grid_column": null,
      "grid_gap": null,
      "grid_row": null,
      "grid_template_areas": null,
      "grid_template_columns": null,
      "grid_template_rows": null,
      "height": null,
      "justify_content": null,
      "justify_items": null,
      "left": null,
      "margin": null,
      "max_height": null,
      "max_width": null,
      "min_height": null,
      "min_width": null,
      "object_fit": null,
      "object_position": null,
      "order": null,
      "overflow": null,
      "overflow_x": null,
      "overflow_y": null,
      "padding": null,
      "right": null,
      "top": null,
      "visibility": null,
      "width": null
     }
    },
    "b969dd0c551f4bcb826ad5eb3ca94163": {
     "model_module": "@jupyter-widgets/controls",
     "model_module_version": "1.5.0",
     "model_name": "HTMLModel",
     "state": {
      "_dom_classes": [],
      "_model_module": "@jupyter-widgets/controls",
      "_model_module_version": "1.5.0",
      "_model_name": "HTMLModel",
      "_view_count": null,
      "_view_module": "@jupyter-widgets/controls",
      "_view_module_version": "1.5.0",
      "_view_name": "HTMLView",
      "description": "",
      "description_tooltip": null,
      "layout": "IPY_MODEL_ed70d9201a5c404cae6553b003b44871",
      "placeholder": "​",
      "style": "IPY_MODEL_8867aa6e13914dbca4f1d027af85b52d",
      "value": " 54.5k/54.5k [00:00&lt;00:00, 4.47MB/s]"
     }
    },
    "bc39d8b3c18d4335a2b9609a753d0e4e": {
     "model_module": "@jupyter-widgets/controls",
     "model_module_version": "1.5.0",
     "model_name": "DescriptionStyleModel",
     "state": {
      "_model_module": "@jupyter-widgets/controls",
      "_model_module_version": "1.5.0",
      "_model_name": "DescriptionStyleModel",
      "_view_count": null,
      "_view_module": "@jupyter-widgets/base",
      "_view_module_version": "1.2.0",
      "_view_name": "StyleView",
      "description_width": ""
     }
    },
    "bc8eb21110794e6dbec81ae761360767": {
     "model_module": "@jupyter-widgets/controls",
     "model_module_version": "1.5.0",
     "model_name": "DescriptionStyleModel",
     "state": {
      "_model_module": "@jupyter-widgets/controls",
      "_model_module_version": "1.5.0",
      "_model_name": "DescriptionStyleModel",
      "_view_count": null,
      "_view_module": "@jupyter-widgets/base",
      "_view_module_version": "1.2.0",
      "_view_name": "StyleView",
      "description_width": ""
     }
    },
    "c0ed383b4b584c8f89368695d182967c": {
     "model_module": "@jupyter-widgets/base",
     "model_module_version": "1.2.0",
     "model_name": "LayoutModel",
     "state": {
      "_model_module": "@jupyter-widgets/base",
      "_model_module_version": "1.2.0",
      "_model_name": "LayoutModel",
      "_view_count": null,
      "_view_module": "@jupyter-widgets/base",
      "_view_module_version": "1.2.0",
      "_view_name": "LayoutView",
      "align_content": null,
      "align_items": null,
      "align_self": null,
      "border": null,
      "bottom": null,
      "display": null,
      "flex": null,
      "flex_flow": null,
      "grid_area": null,
      "grid_auto_columns": null,
      "grid_auto_flow": null,
      "grid_auto_rows": null,
      "grid_column": null,
      "grid_gap": null,
      "grid_row": null,
      "grid_template_areas": null,
      "grid_template_columns": null,
      "grid_template_rows": null,
      "height": null,
      "justify_content": null,
      "justify_items": null,
      "left": null,
      "margin": null,
      "max_height": null,
      "max_width": null,
      "min_height": null,
      "min_width": null,
      "object_fit": null,
      "object_position": null,
      "order": null,
      "overflow": null,
      "overflow_x": null,
      "overflow_y": null,
      "padding": null,
      "right": null,
      "top": null,
      "visibility": null,
      "width": null
     }
    },
    "c18ade7377ac496bb439e02d931c7616": {
     "model_module": "@jupyter-widgets/controls",
     "model_module_version": "1.5.0",
     "model_name": "HTMLModel",
     "state": {
      "_dom_classes": [],
      "_model_module": "@jupyter-widgets/controls",
      "_model_module_version": "1.5.0",
      "_model_name": "HTMLModel",
      "_view_count": null,
      "_view_module": "@jupyter-widgets/controls",
      "_view_module_version": "1.5.0",
      "_view_name": "HTMLView",
      "description": "",
      "description_tooltip": null,
      "layout": "IPY_MODEL_d63c97bad9ca4967a5738398838dad2e",
      "placeholder": "​",
      "style": "IPY_MODEL_bc39d8b3c18d4335a2b9609a753d0e4e",
      "value": "Generating train split: "
     }
    },
    "c1ed83fb1bd24762813a714482ca513f": {
     "model_module": "@jupyter-widgets/controls",
     "model_module_version": "1.5.0",
     "model_name": "HTMLModel",
     "state": {
      "_dom_classes": [],
      "_model_module": "@jupyter-widgets/controls",
      "_model_module_version": "1.5.0",
      "_model_name": "HTMLModel",
      "_view_count": null,
      "_view_module": "@jupyter-widgets/controls",
      "_view_module_version": "1.5.0",
      "_view_name": "HTMLView",
      "description": "",
      "description_tooltip": null,
      "layout": "IPY_MODEL_c0ed383b4b584c8f89368695d182967c",
      "placeholder": "​",
      "style": "IPY_MODEL_a43662ffd4544df3be120255b06eb777",
      "value": "special_tokens_map.json: 100%"
     }
    },
    "c29c37090ac94e9ca1d40ba407b7a804": {
     "model_module": "@jupyter-widgets/controls",
     "model_module_version": "1.5.0",
     "model_name": "DescriptionStyleModel",
     "state": {
      "_model_module": "@jupyter-widgets/controls",
      "_model_module_version": "1.5.0",
      "_model_name": "DescriptionStyleModel",
      "_view_count": null,
      "_view_module": "@jupyter-widgets/base",
      "_view_module_version": "1.2.0",
      "_view_name": "StyleView",
      "description_width": ""
     }
    },
    "c8d8ded24ce54533a76775f380b60f8b": {
     "model_module": "@jupyter-widgets/base",
     "model_module_version": "1.2.0",
     "model_name": "LayoutModel",
     "state": {
      "_model_module": "@jupyter-widgets/base",
      "_model_module_version": "1.2.0",
      "_model_name": "LayoutModel",
      "_view_count": null,
      "_view_module": "@jupyter-widgets/base",
      "_view_module_version": "1.2.0",
      "_view_name": "LayoutView",
      "align_content": null,
      "align_items": null,
      "align_self": null,
      "border": null,
      "bottom": null,
      "display": null,
      "flex": null,
      "flex_flow": null,
      "grid_area": null,
      "grid_auto_columns": null,
      "grid_auto_flow": null,
      "grid_auto_rows": null,
      "grid_column": null,
      "grid_gap": null,
      "grid_row": null,
      "grid_template_areas": null,
      "grid_template_columns": null,
      "grid_template_rows": null,
      "height": null,
      "justify_content": null,
      "justify_items": null,
      "left": null,
      "margin": null,
      "max_height": null,
      "max_width": null,
      "min_height": null,
      "min_width": null,
      "object_fit": null,
      "object_position": null,
      "order": null,
      "overflow": null,
      "overflow_x": null,
      "overflow_y": null,
      "padding": null,
      "right": null,
      "top": null,
      "visibility": null,
      "width": null
     }
    },
    "ca2bb2288cbf46fa9a5dc9ea9526bace": {
     "model_module": "@jupyter-widgets/controls",
     "model_module_version": "1.5.0",
     "model_name": "HBoxModel",
     "state": {
      "_dom_classes": [],
      "_model_module": "@jupyter-widgets/controls",
      "_model_module_version": "1.5.0",
      "_model_name": "HBoxModel",
      "_view_count": null,
      "_view_module": "@jupyter-widgets/controls",
      "_view_module_version": "1.5.0",
      "_view_name": "HBoxView",
      "box_style": "",
      "children": [
       "IPY_MODEL_d359891a93e447ce8e4c6f506f902411",
       "IPY_MODEL_a87013b707b7426d8e8fdae71ce1d9e6",
       "IPY_MODEL_b7aa5337dccd4ebcbaeeac11e145a0a8"
      ],
      "layout": "IPY_MODEL_1d3c966914fe43448de47df6fcdea4f7"
     }
    },
    "cebc7ccd9f4848989405e3c1cb0e26fc": {
     "model_module": "@jupyter-widgets/controls",
     "model_module_version": "1.5.0",
     "model_name": "DescriptionStyleModel",
     "state": {
      "_model_module": "@jupyter-widgets/controls",
      "_model_module_version": "1.5.0",
      "_model_name": "DescriptionStyleModel",
      "_view_count": null,
      "_view_module": "@jupyter-widgets/base",
      "_view_module_version": "1.2.0",
      "_view_name": "StyleView",
      "description_width": ""
     }
    },
    "d359891a93e447ce8e4c6f506f902411": {
     "model_module": "@jupyter-widgets/controls",
     "model_module_version": "1.5.0",
     "model_name": "HTMLModel",
     "state": {
      "_dom_classes": [],
      "_model_module": "@jupyter-widgets/controls",
      "_model_module_version": "1.5.0",
      "_model_name": "HTMLModel",
      "_view_count": null,
      "_view_module": "@jupyter-widgets/controls",
      "_view_module_version": "1.5.0",
      "_view_name": "HTMLView",
      "description": "",
      "description_tooltip": null,
      "layout": "IPY_MODEL_f093b2611db545cd95860b897b9d1077",
      "placeholder": "​",
      "style": "IPY_MODEL_bc8eb21110794e6dbec81ae761360767",
      "value": "config.json: 100%"
     }
    },
    "d36b6503ec6a4e4fb2d9b95ea1c851e0": {
     "model_module": "@jupyter-widgets/controls",
     "model_module_version": "1.5.0",
     "model_name": "DescriptionStyleModel",
     "state": {
      "_model_module": "@jupyter-widgets/controls",
      "_model_module_version": "1.5.0",
      "_model_name": "DescriptionStyleModel",
      "_view_count": null,
      "_view_module": "@jupyter-widgets/base",
      "_view_module_version": "1.2.0",
      "_view_name": "StyleView",
      "description_width": ""
     }
    },
    "d52f04f421ba445a8edac7ef4b328a54": {
     "model_module": "@jupyter-widgets/controls",
     "model_module_version": "1.5.0",
     "model_name": "DescriptionStyleModel",
     "state": {
      "_model_module": "@jupyter-widgets/controls",
      "_model_module_version": "1.5.0",
      "_model_name": "DescriptionStyleModel",
      "_view_count": null,
      "_view_module": "@jupyter-widgets/base",
      "_view_module_version": "1.2.0",
      "_view_name": "StyleView",
      "description_width": ""
     }
    },
    "d63c97bad9ca4967a5738398838dad2e": {
     "model_module": "@jupyter-widgets/base",
     "model_module_version": "1.2.0",
     "model_name": "LayoutModel",
     "state": {
      "_model_module": "@jupyter-widgets/base",
      "_model_module_version": "1.2.0",
      "_model_name": "LayoutModel",
      "_view_count": null,
      "_view_module": "@jupyter-widgets/base",
      "_view_module_version": "1.2.0",
      "_view_name": "LayoutView",
      "align_content": null,
      "align_items": null,
      "align_self": null,
      "border": null,
      "bottom": null,
      "display": null,
      "flex": null,
      "flex_flow": null,
      "grid_area": null,
      "grid_auto_columns": null,
      "grid_auto_flow": null,
      "grid_auto_rows": null,
      "grid_column": null,
      "grid_gap": null,
      "grid_row": null,
      "grid_template_areas": null,
      "grid_template_columns": null,
      "grid_template_rows": null,
      "height": null,
      "justify_content": null,
      "justify_items": null,
      "left": null,
      "margin": null,
      "max_height": null,
      "max_width": null,
      "min_height": null,
      "min_width": null,
      "object_fit": null,
      "object_position": null,
      "order": null,
      "overflow": null,
      "overflow_x": null,
      "overflow_y": null,
      "padding": null,
      "right": null,
      "top": null,
      "visibility": null,
      "width": null
     }
    },
    "da1573ffc82a4bd2aae76545da040f1c": {
     "model_module": "@jupyter-widgets/base",
     "model_module_version": "1.2.0",
     "model_name": "LayoutModel",
     "state": {
      "_model_module": "@jupyter-widgets/base",
      "_model_module_version": "1.2.0",
      "_model_name": "LayoutModel",
      "_view_count": null,
      "_view_module": "@jupyter-widgets/base",
      "_view_module_version": "1.2.0",
      "_view_name": "LayoutView",
      "align_content": null,
      "align_items": null,
      "align_self": null,
      "border": null,
      "bottom": null,
      "display": null,
      "flex": null,
      "flex_flow": null,
      "grid_area": null,
      "grid_auto_columns": null,
      "grid_auto_flow": null,
      "grid_auto_rows": null,
      "grid_column": null,
      "grid_gap": null,
      "grid_row": null,
      "grid_template_areas": null,
      "grid_template_columns": null,
      "grid_template_rows": null,
      "height": null,
      "justify_content": null,
      "justify_items": null,
      "left": null,
      "margin": null,
      "max_height": null,
      "max_width": null,
      "min_height": null,
      "min_width": null,
      "object_fit": null,
      "object_position": null,
      "order": null,
      "overflow": null,
      "overflow_x": null,
      "overflow_y": null,
      "padding": null,
      "right": null,
      "top": null,
      "visibility": null,
      "width": null
     }
    },
    "da71edea399845da92943d9a6f15d1a9": {
     "model_module": "@jupyter-widgets/controls",
     "model_module_version": "1.5.0",
     "model_name": "HTMLModel",
     "state": {
      "_dom_classes": [],
      "_model_module": "@jupyter-widgets/controls",
      "_model_module_version": "1.5.0",
      "_model_name": "HTMLModel",
      "_view_count": null,
      "_view_module": "@jupyter-widgets/controls",
      "_view_module_version": "1.5.0",
      "_view_name": "HTMLView",
      "description": "",
      "description_tooltip": null,
      "layout": "IPY_MODEL_88c6ac14bc3847f58854e7a86b1f3842",
      "placeholder": "​",
      "style": "IPY_MODEL_47c42d100c41406b8ac2f986c3a147e8",
      "value": "tokenizer_config.json: 100%"
     }
    },
    "ddd19ac08b674c5699ae4bb8f4f8fbe4": {
     "model_module": "@jupyter-widgets/controls",
     "model_module_version": "1.5.0",
     "model_name": "HBoxModel",
     "state": {
      "_dom_classes": [],
      "_model_module": "@jupyter-widgets/controls",
      "_model_module_version": "1.5.0",
      "_model_name": "HBoxModel",
      "_view_count": null,
      "_view_module": "@jupyter-widgets/controls",
      "_view_module_version": "1.5.0",
      "_view_name": "HBoxView",
      "box_style": "",
      "children": [
       "IPY_MODEL_c1ed83fb1bd24762813a714482ca513f",
       "IPY_MODEL_5b42127219e24964831fedcf366514a7",
       "IPY_MODEL_8032d4117ee0421597f5dbe9fe7ae49f"
      ],
      "layout": "IPY_MODEL_f2e076f3de5c4d158f63587b3d643ae7"
     }
    },
    "e0b1b5fe75a94627b7e808ce5d183363": {
     "model_module": "@jupyter-widgets/controls",
     "model_module_version": "1.5.0",
     "model_name": "ProgressStyleModel",
     "state": {
      "_model_module": "@jupyter-widgets/controls",
      "_model_module_version": "1.5.0",
      "_model_name": "ProgressStyleModel",
      "_view_count": null,
      "_view_module": "@jupyter-widgets/base",
      "_view_module_version": "1.2.0",
      "_view_name": "StyleView",
      "bar_color": null,
      "description_width": ""
     }
    },
    "e1fcdf1903ad40d8aadb3a5fd27e4a08": {
     "model_module": "@jupyter-widgets/base",
     "model_module_version": "1.2.0",
     "model_name": "LayoutModel",
     "state": {
      "_model_module": "@jupyter-widgets/base",
      "_model_module_version": "1.2.0",
      "_model_name": "LayoutModel",
      "_view_count": null,
      "_view_module": "@jupyter-widgets/base",
      "_view_module_version": "1.2.0",
      "_view_name": "LayoutView",
      "align_content": null,
      "align_items": null,
      "align_self": null,
      "border": null,
      "bottom": null,
      "display": null,
      "flex": null,
      "flex_flow": null,
      "grid_area": null,
      "grid_auto_columns": null,
      "grid_auto_flow": null,
      "grid_auto_rows": null,
      "grid_column": null,
      "grid_gap": null,
      "grid_row": null,
      "grid_template_areas": null,
      "grid_template_columns": null,
      "grid_template_rows": null,
      "height": null,
      "justify_content": null,
      "justify_items": null,
      "left": null,
      "margin": null,
      "max_height": null,
      "max_width": null,
      "min_height": null,
      "min_width": null,
      "object_fit": null,
      "object_position": null,
      "order": null,
      "overflow": null,
      "overflow_x": null,
      "overflow_y": null,
      "padding": null,
      "right": null,
      "top": null,
      "visibility": null,
      "width": null
     }
    },
    "e2356f9331274203a4d4663f6220631e": {
     "model_module": "@jupyter-widgets/controls",
     "model_module_version": "1.5.0",
     "model_name": "HBoxModel",
     "state": {
      "_dom_classes": [],
      "_model_module": "@jupyter-widgets/controls",
      "_model_module_version": "1.5.0",
      "_model_name": "HBoxModel",
      "_view_count": null,
      "_view_module": "@jupyter-widgets/controls",
      "_view_module_version": "1.5.0",
      "_view_name": "HBoxView",
      "box_style": "",
      "children": [
       "IPY_MODEL_c18ade7377ac496bb439e02d931c7616",
       "IPY_MODEL_0d757fb315dd480aaac4addcc9b51a2c",
       "IPY_MODEL_3118154f5de64e94b988e7aac6d61c90"
      ],
      "layout": "IPY_MODEL_da1573ffc82a4bd2aae76545da040f1c"
     }
    },
    "e785fadf604e494bb63048ec70d90336": {
     "model_module": "@jupyter-widgets/base",
     "model_module_version": "1.2.0",
     "model_name": "LayoutModel",
     "state": {
      "_model_module": "@jupyter-widgets/base",
      "_model_module_version": "1.2.0",
      "_model_name": "LayoutModel",
      "_view_count": null,
      "_view_module": "@jupyter-widgets/base",
      "_view_module_version": "1.2.0",
      "_view_name": "LayoutView",
      "align_content": null,
      "align_items": null,
      "align_self": null,
      "border": null,
      "bottom": null,
      "display": null,
      "flex": null,
      "flex_flow": null,
      "grid_area": null,
      "grid_auto_columns": null,
      "grid_auto_flow": null,
      "grid_auto_rows": null,
      "grid_column": null,
      "grid_gap": null,
      "grid_row": null,
      "grid_template_areas": null,
      "grid_template_columns": null,
      "grid_template_rows": null,
      "height": null,
      "justify_content": null,
      "justify_items": null,
      "left": null,
      "margin": null,
      "max_height": null,
      "max_width": null,
      "min_height": null,
      "min_width": null,
      "object_fit": null,
      "object_position": null,
      "order": null,
      "overflow": null,
      "overflow_x": null,
      "overflow_y": null,
      "padding": null,
      "right": null,
      "top": null,
      "visibility": null,
      "width": "20px"
     }
    },
    "e974f1a9d8d34f809acc6679ed4f534e": {
     "model_module": "@jupyter-widgets/controls",
     "model_module_version": "1.5.0",
     "model_name": "ProgressStyleModel",
     "state": {
      "_model_module": "@jupyter-widgets/controls",
      "_model_module_version": "1.5.0",
      "_model_name": "ProgressStyleModel",
      "_view_count": null,
      "_view_module": "@jupyter-widgets/base",
      "_view_module_version": "1.2.0",
      "_view_name": "StyleView",
      "bar_color": null,
      "description_width": ""
     }
    },
    "eaeec3dd51094966b191aaba04e2175b": {
     "model_module": "@jupyter-widgets/controls",
     "model_module_version": "1.5.0",
     "model_name": "HTMLModel",
     "state": {
      "_dom_classes": [],
      "_model_module": "@jupyter-widgets/controls",
      "_model_module_version": "1.5.0",
      "_model_name": "HTMLModel",
      "_view_count": null,
      "_view_module": "@jupyter-widgets/controls",
      "_view_module_version": "1.5.0",
      "_view_name": "HTMLView",
      "description": "",
      "description_tooltip": null,
      "layout": "IPY_MODEL_07be6c68760348c6980c680a8c13ed31",
      "placeholder": "​",
      "style": "IPY_MODEL_4c0679b710164d90b61f0cf66e6eec11",
      "value": " 9.09M/9.09M [00:00&lt;00:00, 23.7MB/s]"
     }
    },
    "ed70d9201a5c404cae6553b003b44871": {
     "model_module": "@jupyter-widgets/base",
     "model_module_version": "1.2.0",
     "model_name": "LayoutModel",
     "state": {
      "_model_module": "@jupyter-widgets/base",
      "_model_module_version": "1.2.0",
      "_model_name": "LayoutModel",
      "_view_count": null,
      "_view_module": "@jupyter-widgets/base",
      "_view_module_version": "1.2.0",
      "_view_name": "LayoutView",
      "align_content": null,
      "align_items": null,
      "align_self": null,
      "border": null,
      "bottom": null,
      "display": null,
      "flex": null,
      "flex_flow": null,
      "grid_area": null,
      "grid_auto_columns": null,
      "grid_auto_flow": null,
      "grid_auto_rows": null,
      "grid_column": null,
      "grid_gap": null,
      "grid_row": null,
      "grid_template_areas": null,
      "grid_template_columns": null,
      "grid_template_rows": null,
      "height": null,
      "justify_content": null,
      "justify_items": null,
      "left": null,
      "margin": null,
      "max_height": null,
      "max_width": null,
      "min_height": null,
      "min_width": null,
      "object_fit": null,
      "object_position": null,
      "order": null,
      "overflow": null,
      "overflow_x": null,
      "overflow_y": null,
      "padding": null,
      "right": null,
      "top": null,
      "visibility": null,
      "width": null
     }
    },
    "ee61763173a5405ba655b0a05f2fc9f4": {
     "model_module": "@jupyter-widgets/base",
     "model_module_version": "1.2.0",
     "model_name": "LayoutModel",
     "state": {
      "_model_module": "@jupyter-widgets/base",
      "_model_module_version": "1.2.0",
      "_model_name": "LayoutModel",
      "_view_count": null,
      "_view_module": "@jupyter-widgets/base",
      "_view_module_version": "1.2.0",
      "_view_name": "LayoutView",
      "align_content": null,
      "align_items": null,
      "align_self": null,
      "border": null,
      "bottom": null,
      "display": null,
      "flex": null,
      "flex_flow": null,
      "grid_area": null,
      "grid_auto_columns": null,
      "grid_auto_flow": null,
      "grid_auto_rows": null,
      "grid_column": null,
      "grid_gap": null,
      "grid_row": null,
      "grid_template_areas": null,
      "grid_template_columns": null,
      "grid_template_rows": null,
      "height": null,
      "justify_content": null,
      "justify_items": null,
      "left": null,
      "margin": null,
      "max_height": null,
      "max_width": null,
      "min_height": null,
      "min_width": null,
      "object_fit": null,
      "object_position": null,
      "order": null,
      "overflow": null,
      "overflow_x": null,
      "overflow_y": null,
      "padding": null,
      "right": null,
      "top": null,
      "visibility": null,
      "width": null
     }
    },
    "f093b2611db545cd95860b897b9d1077": {
     "model_module": "@jupyter-widgets/base",
     "model_module_version": "1.2.0",
     "model_name": "LayoutModel",
     "state": {
      "_model_module": "@jupyter-widgets/base",
      "_model_module_version": "1.2.0",
      "_model_name": "LayoutModel",
      "_view_count": null,
      "_view_module": "@jupyter-widgets/base",
      "_view_module_version": "1.2.0",
      "_view_name": "LayoutView",
      "align_content": null,
      "align_items": null,
      "align_self": null,
      "border": null,
      "bottom": null,
      "display": null,
      "flex": null,
      "flex_flow": null,
      "grid_area": null,
      "grid_auto_columns": null,
      "grid_auto_flow": null,
      "grid_auto_rows": null,
      "grid_column": null,
      "grid_gap": null,
      "grid_row": null,
      "grid_template_areas": null,
      "grid_template_columns": null,
      "grid_template_rows": null,
      "height": null,
      "justify_content": null,
      "justify_items": null,
      "left": null,
      "margin": null,
      "max_height": null,
      "max_width": null,
      "min_height": null,
      "min_width": null,
      "object_fit": null,
      "object_position": null,
      "order": null,
      "overflow": null,
      "overflow_x": null,
      "overflow_y": null,
      "padding": null,
      "right": null,
      "top": null,
      "visibility": null,
      "width": null
     }
    },
    "f27743312f664dae8cc99a674963622c": {
     "model_module": "@jupyter-widgets/base",
     "model_module_version": "1.2.0",
     "model_name": "LayoutModel",
     "state": {
      "_model_module": "@jupyter-widgets/base",
      "_model_module_version": "1.2.0",
      "_model_name": "LayoutModel",
      "_view_count": null,
      "_view_module": "@jupyter-widgets/base",
      "_view_module_version": "1.2.0",
      "_view_name": "LayoutView",
      "align_content": null,
      "align_items": null,
      "align_self": null,
      "border": null,
      "bottom": null,
      "display": null,
      "flex": null,
      "flex_flow": null,
      "grid_area": null,
      "grid_auto_columns": null,
      "grid_auto_flow": null,
      "grid_auto_rows": null,
      "grid_column": null,
      "grid_gap": null,
      "grid_row": null,
      "grid_template_areas": null,
      "grid_template_columns": null,
      "grid_template_rows": null,
      "height": null,
      "justify_content": null,
      "justify_items": null,
      "left": null,
      "margin": null,
      "max_height": null,
      "max_width": null,
      "min_height": null,
      "min_width": null,
      "object_fit": null,
      "object_position": null,
      "order": null,
      "overflow": null,
      "overflow_x": null,
      "overflow_y": null,
      "padding": null,
      "right": null,
      "top": null,
      "visibility": null,
      "width": null
     }
    },
    "f2e076f3de5c4d158f63587b3d643ae7": {
     "model_module": "@jupyter-widgets/base",
     "model_module_version": "1.2.0",
     "model_name": "LayoutModel",
     "state": {
      "_model_module": "@jupyter-widgets/base",
      "_model_module_version": "1.2.0",
      "_model_name": "LayoutModel",
      "_view_count": null,
      "_view_module": "@jupyter-widgets/base",
      "_view_module_version": "1.2.0",
      "_view_name": "LayoutView",
      "align_content": null,
      "align_items": null,
      "align_self": null,
      "border": null,
      "bottom": null,
      "display": null,
      "flex": null,
      "flex_flow": null,
      "grid_area": null,
      "grid_auto_columns": null,
      "grid_auto_flow": null,
      "grid_auto_rows": null,
      "grid_column": null,
      "grid_gap": null,
      "grid_row": null,
      "grid_template_areas": null,
      "grid_template_columns": null,
      "grid_template_rows": null,
      "height": null,
      "justify_content": null,
      "justify_items": null,
      "left": null,
      "margin": null,
      "max_height": null,
      "max_width": null,
      "min_height": null,
      "min_width": null,
      "object_fit": null,
      "object_position": null,
      "order": null,
      "overflow": null,
      "overflow_x": null,
      "overflow_y": null,
      "padding": null,
      "right": null,
      "top": null,
      "visibility": null,
      "width": null
     }
    },
    "f9582652278b4c8abaf9abc218505876": {
     "model_module": "@jupyter-widgets/controls",
     "model_module_version": "1.5.0",
     "model_name": "FloatProgressModel",
     "state": {
      "_dom_classes": [],
      "_model_module": "@jupyter-widgets/controls",
      "_model_module_version": "1.5.0",
      "_model_name": "FloatProgressModel",
      "_view_count": null,
      "_view_module": "@jupyter-widgets/controls",
      "_view_module_version": "1.5.0",
      "_view_name": "ProgressView",
      "bar_style": "success",
      "description": "",
      "description_tooltip": null,
      "layout": "IPY_MODEL_02e2e89edd4d44548ebfac90bc77d8c5",
      "max": 189,
      "min": 0,
      "orientation": "horizontal",
      "style": "IPY_MODEL_a6602178b0fe42ceb9276b1113340640",
      "value": 189
     }
    }
   }
  }
 },
 "nbformat": 4,
 "nbformat_minor": 0
}
